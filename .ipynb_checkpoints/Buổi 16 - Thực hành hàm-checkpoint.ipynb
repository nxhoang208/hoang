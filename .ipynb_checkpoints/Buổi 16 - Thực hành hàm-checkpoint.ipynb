{
 "cells": [
  {
   "cell_type": "markdown",
   "id": "028ffec3",
   "metadata": {},
   "source": [
    "# Thực hành hàm\n",
    "\n",
    "### Bài 1\n",
    "\n",
    "Viết hàm có dữ liệu đầu vào là 2 số a và b, số nào lớn hơn thì in bảng cửu chương của số đó"
   ]
  },
  {
   "cell_type": "code",
   "execution_count": 51,
   "id": "4a1ab57c",
   "metadata": {},
   "outputs": [
    {
     "name": "stdout",
     "output_type": "stream",
     "text": [
      "0\n",
      "1\n",
      "2\n",
      "3\n",
      "Tổng = 10\n"
     ]
    }
   ],
   "source": [
    "num = 0\n",
    "total = 0\n",
    "\n",
    "while num < 4:\n",
    "    print(num)\n",
    "    num += 1\n",
    "    total+=num\n",
    "print(\"Tổng =\",total)\n",
    "#> 0\n",
    "#> 1\n",
    "#> 2\n",
    "#> 3\n",
    "#> Tổng = 10\n"
   ]
  },
  {
   "cell_type": "code",
   "execution_count": 99,
   "id": "8058e4b3",
   "metadata": {},
   "outputs": [
    {
     "name": "stdout",
     "output_type": "stream",
     "text": [
      "0\n",
      "1\n",
      "2\n",
      "3\n",
      "10\n"
     ]
    }
   ],
   "source": [
    "num=0\n",
    "tong=0\n",
    "for i in range(0,4):\n",
    "#   num=num+1\n",
    "    print(num)\n",
    "    num=num+1\n",
    "    if num<=4 and num >=0:\n",
    "        tong=tong+num\n",
    "\n",
    " #      print(\"tổng là:\",tong)\n",
    "#   else:\n",
    " #      print(\"số không hợp lê, mời nhập lại\")\n",
    "        \n",
    "print(tong)"
   ]
  },
  {
   "cell_type": "code",
   "execution_count": 82,
   "id": "05b30225",
   "metadata": {},
   "outputs": [
    {
     "name": "stdout",
     "output_type": "stream",
     "text": [
      "Hoa\n",
      "Thảo\n",
      "Mai\n",
      "Số thành viên : 3\n"
     ]
    }
   ],
   "source": [
    "member_list = ['Hoa', 'Thảo', 'Mai']\n",
    "member_count = 0\n",
    "\n",
    "for name in member_list:\n",
    "    #if name  == 'Thảo':\n",
    "        #break\n",
    "    print(name)\n",
    "    member_count += 1\n",
    "else:\n",
    "    print(\"Số thành viên :\",member_count)\n",
    "\n",
    "#> Hoa\n"
   ]
  },
  {
   "cell_type": "code",
   "execution_count": 9,
   "id": "1974966b",
   "metadata": {},
   "outputs": [
    {
     "name": "stdout",
     "output_type": "stream",
     "text": [
      "12 x 1 = 12\n",
      "12 x 2 = 24\n",
      "12 x 3 = 36\n",
      "12 x 4 = 48\n",
      "12 x 5 = 60\n",
      "12 x 6 = 72\n",
      "12 x 7 = 84\n",
      "12 x 8 = 96\n",
      "12 x 9 = 108\n",
      "12 x 10 = 120\n",
      "None\n"
     ]
    }
   ],
   "source": [
    "#Viết hàm có dữ liệu đầu vào là 2 số a và b, số nào lớn hơn thì in bảng cửu chương của số đó\n",
    "def bangcuuchuong(a,b):\n",
    "    for i in range(1,11):\n",
    "   # print(i)\n",
    "    #i=i+1\n",
    "        if a > b:\n",
    "            print(a,\"x\",i,\"=\",a*i)\n",
    "        else:\n",
    "            print(b,\"x\",i,\"=\",b*i)\n",
    "d=bangcuuchuong(7,12)\n",
    "print(d)\n",
    "    "
   ]
  },
  {
   "cell_type": "code",
   "execution_count": 7,
   "id": "826ebcdb",
   "metadata": {},
   "outputs": [
    {
     "name": "stdout",
     "output_type": "stream",
     "text": [
      "nhap a:7\n",
      "nhập b:9\n",
      "9 x 1 = 9\n",
      "9 x 2 = 18\n",
      "9 x 3 = 27\n",
      "9 x 4 = 36\n",
      "9 x 5 = 45\n",
      "9 x 6 = 54\n",
      "9 x 7 = 63\n",
      "9 x 8 = 72\n",
      "9 x 9 = 81\n",
      "9 x 10 = 90\n"
     ]
    }
   ],
   "source": [
    "a=int(input(\"nhap a:\"))\n",
    "b=int(input(\"nhập b:\"))\n",
    "for i in range(1,11):\n",
    "   # print(i)\n",
    "    #i=i+1\n",
    "    if a > b:\n",
    "        print(a,\"x\",i,\"=\",a*i)\n",
    "    else:\n",
    "        print(b,\"x\",i,\"=\",b*i)\n",
    "    #i=i+1"
   ]
  },
  {
   "cell_type": "markdown",
   "id": "9de8ffaa",
   "metadata": {},
   "source": [
    "### Bài 2\n",
    "\n",
    "Viết hàm `xoachuoi` có dữ liệu đầu vào là 2 chuỗi a và b, hãy tìm trong chuỗi a có chuỗi b hay không, nếu có hãy xóa toán bộ chuỗi b trong a.\n",
    "\n",
    "Sau đó trả về chuỗi a mới\n",
    "\n",
    "Ví dụ:\n",
    "\n",
    "chuoi1 = \"xin chào các bạn, các bạn có khỏe không?\"\n",
    "\n",
    "chuoi2 = \"các bạn\"\n",
    "\n",
    "chuoi3 = xoachuoi(chuoi1,chuoi2)\n",
    "\n",
    "print(chuoi3)\n",
    "\n",
    "Kết quả in ra là:\n",
    "xin chào ,  có khỏe không"
   ]
  },
  {
   "cell_type": "code",
   "execution_count": 16,
   "id": "05de1584",
   "metadata": {},
   "outputs": [
    {
     "name": "stdout",
     "output_type": "stream",
     "text": [
      "xin chào ,  có khỏe không?\n"
     ]
    }
   ],
   "source": [
    "def xoachuoi(chuoi1,chuoi2):\n",
    "    chuoi3 = \"\"\n",
    "    i = 0\n",
    "    while True:\n",
    "        if chuoi1[i] == chuoi2[0]:\n",
    "            catchuoi = chuoi1[i:i+len(chuoi2)]\n",
    "            if (catchuoi == chuoi2):\n",
    "                chuoi1 = chuoi1[:i] + chuoi1[i+len(chuoi2):]\n",
    "                i = i - 1\n",
    "        i = i + 1\n",
    "        if (i > len(chuoi1) - len(chuoi2)):\n",
    "            break\n",
    "    return chuoi1\n",
    "chuoi1 = \"xin chào các bạncác bạn, các bạn có khỏe không?\"\n",
    "chuoi2 = \"các bạn\"\n",
    "a=xoachuoi(chuoi1,chuoi2)\n",
    "print(a)"
   ]
  },
  {
   "cell_type": "code",
   "execution_count": 12,
   "id": "0be28cc5",
   "metadata": {},
   "outputs": [
    {
     "name": "stdout",
     "output_type": "stream",
     "text": [
      "47\n",
      "7\n"
     ]
    }
   ],
   "source": [
    "chuoi1 = \"xin chào các bạncác bạn, các bạn có khỏe không?\"\n",
    "chuoi2 = \"các bạn\"\n",
    "print(len(chuoi1))\n",
    "print(len(chuoi2))"
   ]
  },
  {
   "cell_type": "markdown",
   "id": "d626394e",
   "metadata": {},
   "source": [
    "### Bài 3\n",
    "\n",
    "Viết hàm `kiemtramatkhau` với dữ liệu đầu vào là 1 chuỗi có công dụng như sau:\n",
    "\n",
    "Kiểm tra xem chuỗi đầu vào có phải là mật khẩu mạnh hay không, nếu có trả về True, nếu không trả về False\n",
    "\n",
    "Mật khẩu mạnh là mật khẩu phải có ít nhất 1 chữ hoa, 1 chữ thường, 1 số và 1 ký tự đặc biệt"
   ]
  },
  {
   "cell_type": "code",
   "execution_count": 3,
   "id": "875d88f5",
   "metadata": {},
   "outputs": [
    {
     "ename": "SyntaxError",
     "evalue": "expected ':' (Temp/ipykernel_7292/842186412.py, line 1)",
     "output_type": "error",
     "traceback": [
      "\u001b[1;36m  File \u001b[1;32m\"C:\\Users\\TechCare\\AppData\\Local\\Temp/ipykernel_7292/842186412.py\"\u001b[1;36m, line \u001b[1;32m1\u001b[0m\n\u001b[1;33m    def kiemtramatkhau(a)\u001b[0m\n\u001b[1;37m                         ^\u001b[0m\n\u001b[1;31mSyntaxError\u001b[0m\u001b[1;31m:\u001b[0m expected ':'\n"
     ]
    }
   ],
   "source": [
    "def kiemtramatkhau(a):\n",
    "    for i in range(a):\n",
    "        \n",
    "        "
   ]
  },
  {
   "cell_type": "code",
   "execution_count": null,
   "id": "c44f113e",
   "metadata": {},
   "outputs": [],
   "source": []
  },
  {
   "cell_type": "markdown",
   "id": "1572568f",
   "metadata": {},
   "source": [
    "### Bài 4\n",
    "\n",
    "Viết hàm có 5 dữ liệu đầu vào là 5 số nguyên, tìm giá trị lớn nhì trong 5 số đó"
   ]
  },
  {
   "cell_type": "code",
   "execution_count": null,
   "id": "876707ae",
   "metadata": {},
   "outputs": [],
   "source": [
    "a=inter(input('nhap'))\n"
   ]
  },
  {
   "cell_type": "markdown",
   "id": "974d7da1",
   "metadata": {},
   "source": [
    "### Bài 5\n",
    "\n",
    "Nhập vào 2 cặp tọa độ tâm đường tròn và 2 bán kính R\n",
    "\n",
    "Hãy vẽ 2 hình tròn theo tọa độ và bán kính trên (tọa độ thứ nhất và bán kính thứ nhất là hình tròn thứ nhất, tọa độ thứ 2 với bán kính thứ 2 là hình tròn thứ hai)\n",
    "\n",
    "Viết hàm kiểm tra xem 2 hình tròn trên cắt nhau bao nhiêu điểm"
   ]
  },
  {
   "cell_type": "code",
   "execution_count": null,
   "id": "f7722021",
   "metadata": {},
   "outputs": [],
   "source": []
  },
  {
   "cell_type": "markdown",
   "id": "a2157de8",
   "metadata": {},
   "source": [
    "### Bài 6\n",
    "\n",
    "Nhập vào 2 tọa độ là 2 đỉnh của một hình chữ nhật\n",
    "\n",
    "Sau đó\n",
    "\n",
    "Nhập vào tọa độ tâm đường tròn và bán kính R\n",
    "\n",
    "Hãy vẽ hình hình chữ nhật và đường tròn trên\n",
    "\n",
    "Viết hàm kiểm tra xem đường tròn trên và hình chữ nhật cắt nhau tại bao nhiêu điểm"
   ]
  },
  {
   "cell_type": "code",
   "execution_count": null,
   "id": "e0d7b1a2",
   "metadata": {},
   "outputs": [],
   "source": []
  },
  {
   "cell_type": "markdown",
   "id": "d1491579",
   "metadata": {},
   "source": [
    "### Bài 7\n",
    "\n",
    "Viết hàm kiểm tra số nguyên tố\n",
    "\n",
    "Viết hàm kiểm tra số hoàn hảo\n",
    "\n",
    "Viết hàm kiểm tra số chính phương\n",
    "\n",
    "Viết hàm kiểm tra số Armstrong\n",
    "\n",
    "Nhập vào một chuỗi, hãy lọc và tìm ra những số ở trong chuỗi (2 chữ số liền nhau là một chuỗi)\n",
    "\n",
    "Ví dụ chuỗi: \"AB25SDc5DSjjh52\"\n",
    "\n",
    "Trong chuỗi này ta có 3 số: 25, 5 và 52\n",
    "\n",
    "Sau khi lọc số, dùng các hàm trên để kiểm tra và thực hiện như sau:\n",
    "\n",
    "Cho biến S\n",
    "\n",
    "- Nếu số đó là số nguyên tố, ta thực hiện S += số đó\n",
    "- Nếu số đó là số hoàn hảo, ta thực hiện S -= số đó\n",
    "- Nếu số đó là số chính phương, ta thực hiện S /= số đó\n",
    "- Nếu đó là số Armstrong ta cho S = 0\n",
    "\n",
    "Hãy tính và in S"
   ]
  },
  {
   "cell_type": "code",
   "execution_count": null,
   "id": "0b699e33",
   "metadata": {},
   "outputs": [],
   "source": []
  }
 ],
 "metadata": {
  "kernelspec": {
   "display_name": "Python 3 (ipykernel)",
   "language": "python",
   "name": "python3"
  },
  "language_info": {
   "codemirror_mode": {
    "name": "ipython",
    "version": 3
   },
   "file_extension": ".py",
   "mimetype": "text/x-python",
   "name": "python",
   "nbconvert_exporter": "python",
   "pygments_lexer": "ipython3",
   "version": "3.10.0"
  }
 },
 "nbformat": 4,
 "nbformat_minor": 5
}
