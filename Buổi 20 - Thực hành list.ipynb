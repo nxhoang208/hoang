{
 "cells": [
  {
   "cell_type": "markdown",
   "id": "011431b9",
   "metadata": {},
   "source": [
    "# Thực hành List\n",
    "\n",
    "##### Chú ý: list một dãy số người ta còn gọi là một mảng\n",
    "\n",
    "### Bài 1"
   ]
  },
  {
   "cell_type": "markdown",
   "id": "61a90628",
   "metadata": {},
   "source": [
    "Viết hàm với đầu vào là một mảng, hãy tính và trả về giá trị trung bình của mảng"
   ]
  },
  {
   "cell_type": "code",
   "execution_count": 1,
   "id": "bcc197d5",
   "metadata": {},
   "outputs": [
    {
     "name": "stdout",
     "output_type": "stream",
     "text": [
      "5.5\n"
     ]
    }
   ],
   "source": [
    "L=[3,4,6,9]\n",
    "def giatritrungbinh(a):\n",
    "    S=0\n",
    "    for i in a:\n",
    "        S=S+i\n",
    "    return (S/(len(a)))\n",
    "print(giatritrungbinh(L))\n"
   ]
  },
  {
   "cell_type": "code",
   "execution_count": null,
   "id": "b498ae0d",
   "metadata": {},
   "outputs": [],
   "source": [
    "L=[3,-4,6,9,-3]\n",
    "print(L[0])"
   ]
  },
  {
   "cell_type": "markdown",
   "id": "30d26c1b",
   "metadata": {},
   "source": [
    "### Bài 2"
   ]
  },
  {
   "cell_type": "markdown",
   "id": "674ef26c",
   "metadata": {},
   "source": [
    "Viết hàm với đầu vào là một mảng, hãy tìm và trả về giá trị âm lớn nhất trong mảng"
   ]
  },
  {
   "cell_type": "code",
   "execution_count": null,
   "id": "1a9cb505",
   "metadata": {},
   "outputs": [],
   "source": [
    "M = [3,8,6,-4,2,5]\n",
    "def timgiatriamlonnhat(M):\n",
    "    maxx = None\n",
    "    for i in M:\n",
    "        if i<0:\n",
    "            if maxx == None or i>maxx:\n",
    "                maxx = i \n",
    "    if maxx == None:\n",
    "        return 1\n",
    "    return maxx \n",
    "print(timgiatriamlonnhat(M))\n",
    "\n",
    "    "
   ]
  },
  {
   "cell_type": "code",
   "execution_count": 3,
   "id": "4906e352",
   "metadata": {},
   "outputs": [
    {
     "name": "stdout",
     "output_type": "stream",
     "text": [
      "3\n"
     ]
    }
   ],
   "source": [
    "L=[-3, -5, 11, 23, 34, 54, 101, 103]\n",
    "#x = 10        \n",
    "def timgiatrimax(L):\n",
    "    m=[]\n",
    "    for i in L:\n",
    "        if i<0:\n",
    "            m.append(i)\n",
    "    maxx=m[0]\n",
    "    for x in m:\n",
    "        if maxx<x:\n",
    "            maxx = x\n",
    "    return x\n",
    "print(\"giá trị âm lớn nhất\",timgiatrimax(L))\n",
    "\n"
   ]
  },
  {
   "cell_type": "markdown",
   "id": "95cfaa74",
   "metadata": {},
   "source": [
    "### Bài 3"
   ]
  },
  {
   "cell_type": "markdown",
   "id": "5361a4b8",
   "metadata": {},
   "source": [
    "Viết hàm với giá trị đầu vào là một mảng, hãy sắp xếp và trả về mảng có độ lớn tăng dần"
   ]
  },
  {
   "cell_type": "code",
   "execution_count": null,
   "id": "91ad4d5d",
   "metadata": {},
   "outputs": [],
   "source": []
  },
  {
   "cell_type": "markdown",
   "id": "025cc0cb",
   "metadata": {},
   "source": [
    "### Bài 4"
   ]
  },
  {
   "cell_type": "markdown",
   "id": "dbf885a9",
   "metadata": {},
   "source": [
    "Viết hàm với giá trị đầu vào là một mảng, tìm x sao cho đoạn [-x,x] chứa tất cả các giá trị có trong mảng"
   ]
  },
  {
   "cell_type": "code",
   "execution_count": 9,
   "id": "84606ea2",
   "metadata": {},
   "outputs": [],
   "source": [
    "a=[1,4,6,3,9,34,12]\n",
    "#range([:len(a)-1])\n",
    "for i in range(len(a)-1):\n",
    "    if a[i]<i:\n",
    "        max=i\n",
    "        print(max)\n"
   ]
  },
  {
   "cell_type": "markdown",
   "id": "98aa10b5",
   "metadata": {},
   "source": [
    "### Bài 5"
   ]
  },
  {
   "cell_type": "markdown",
   "id": "a7fe3092",
   "metadata": {},
   "source": [
    "Viết hàm với giá trị đầu vào là một mảng, Hãy tìm một vị trí trong mảng thỏa hai điền kiện: có hai giá trị lân cận và giá trị tại vị trí đó bằng tích hai giá trị lân cận. Nếu mảng không tồn tại giá trị như vậy thì hàm trả về giá trị - 1"
   ]
  },
  {
   "cell_type": "code",
   "execution_count": null,
   "id": "9d55cb01",
   "metadata": {},
   "outputs": [],
   "source": []
  },
  {
   "cell_type": "markdown",
   "id": "035325d7",
   "metadata": {},
   "source": [
    "### Bài 6"
   ]
  },
  {
   "cell_type": "markdown",
   "id": "e2d35127",
   "metadata": {},
   "source": [
    "Viết hàm có giá trị đầu vào là một mảng. Hãy tìm giá trị đầu tiên trong mảng một chiều các số nguyên có chữ sốđầu tiên là chữ số lẻ. Nếu trong mảng không tồn tại giá trị như vậy thì hàm sẽ trả về giá trị 0."
   ]
  },
  {
   "cell_type": "code",
   "execution_count": null,
   "id": "b8a8b8a2",
   "metadata": {},
   "outputs": [],
   "source": []
  },
  {
   "cell_type": "markdown",
   "id": "da270d1a",
   "metadata": {},
   "source": [
    "### Bài 7"
   ]
  },
  {
   "cell_type": "markdown",
   "id": "079fdafe",
   "metadata": {},
   "source": [
    "Viết hàm có giá trị đầu vào là một mảng. Hãy tìm giá trị đầu tiên trong mảng có dạng 2k. Nếu mảng không tồn tại giá trị dạng 2k thì hàm sẽ trả về giá trị 0."
   ]
  },
  {
   "cell_type": "code",
   "execution_count": null,
   "id": "f9311f33",
   "metadata": {},
   "outputs": [],
   "source": []
  },
  {
   "cell_type": "markdown",
   "id": "80c8ab17",
   "metadata": {},
   "source": [
    "### Bài 8"
   ]
  },
  {
   "cell_type": "markdown",
   "id": "47c3a2e2",
   "metadata": {},
   "source": [
    "Viết hàm có giá trị đầu vào là một mảng. Hãy tìm giá trị thỏa điều kiện toàn chữ số lẻ và là giá trị lớn nhất thỏa điều kiện ấy trong mảng (nếu mảng không có giá trị thỏa điều kiện trên thì hàm trả về giá trị 0)"
   ]
  },
  {
   "cell_type": "code",
   "execution_count": null,
   "id": "f8740d98",
   "metadata": {},
   "outputs": [],
   "source": []
  },
  {
   "cell_type": "markdown",
   "id": "8a09bf26",
   "metadata": {},
   "source": [
    "### Bài 9"
   ]
  },
  {
   "cell_type": "markdown",
   "id": "09f9a4c6",
   "metadata": {},
   "source": [
    "Trong kỳ thi học sinh giỏi môn Tin học, một học sinh là người đạt giải đặc biệt. Ban tổ chức cho phép học sinh đó chọn các phần thưởng cho mình.\n",
    "\n",
    "Các phần thưởng xếp thành một dãy được đánh số từ 1 đến N (0 ≤ N ≤ 10000), phần thưởng thứ i có giá trị là Ai (1 ≤ Ai ≤ 100).\n",
    "\n",
    "Học sinh được phép chọn các phần thưởng cho mình theo nguyên tắc không chọn 3 phần thưởng liên tiếp nhau trong dãy.\n",
    "\n",
    "Viết chương trình để máy tính hướng dẫn học sinh đó chọn các phần thưởng sao cho tổng giá trị của các phần thưởng nhận được là lớn nhất.\n",
    "\n",
    "Nhập vào N, sau đó nhập n lần các giá trị Ai\n",
    "\n",
    "In ra giá trị lớn nhất học sinh được chọn, và các vị trí mà học sinh cần chọn để đạt được giá trị lớn nhất"
   ]
  },
  {
   "cell_type": "code",
   "execution_count": null,
   "id": "c350a1e9",
   "metadata": {},
   "outputs": [],
   "source": []
  },
  {
   "cell_type": "code",
   "execution_count": 2,
   "id": "8d3a6530",
   "metadata": {},
   "outputs": [
    {
     "name": "stdout",
     "output_type": "stream",
     "text": [
      "tong tuoi la: 6\n",
      "xin chào tuấn\n",
      "tuổi của tuấn là 6 tuổi\n",
      "tong tuoi la: 13\n",
      "xin chào hoa\n",
      "tuổi của hoa là 7 tuổi\n",
      "tong tuoi la: 22\n",
      "xin chào nga\n",
      "tuổi của nga là 9 tuổi\n",
      "tong tuoi la: 34\n",
      "xin chào kiều\n",
      "tuổi của kiều là 12 tuổi\n",
      "Tuoi trung binh: 8.5\n"
     ]
    }
   ],
   "source": [
    "name =[\"tuấn\",\"hoa\",\"nga\",\"kiều\"]\n",
    "\n",
    "age=[6,7,9,12]\n",
    "so_nguoi=len(name)\n",
    "i=0\n",
    "tong_tuoi=0\n",
    "while i<so_nguoi:\n",
    "    tong_tuoi=tong_tuoi+age[i]\n",
    "    print(\"tong tuoi la:\",tong_tuoi)\n",
    "    print(\"xin chào\",name[i])\n",
    "    print(\"tuổi của\",name[i] ,\"là\",age[i],\"tuổi\")\n",
    "    i=i+1\n",
    "tuoi_trung_binh=tong_tuoi/so_nguoi\n",
    "print(\"Tuoi trung binh:\",tuoi_trung_binh)"
   ]
  },
  {
   "cell_type": "code",
   "execution_count": 5,
   "id": "84afbbbb",
   "metadata": {},
   "outputs": [
    {
     "name": "stdout",
     "output_type": "stream",
     "text": [
      "2 x 1 = 2\n",
      "2 x 2 = 4\n",
      "2 x 3 = 6\n",
      "2 x 4 = 8\n",
      "2 x 5 = 10\n",
      "2 x 6 = 12\n",
      "2 x 7 = 14\n",
      "2 x 8 = 16\n",
      "2 x 9 = 18\n",
      "2 x 10 = 20\n",
      "--------------------\n",
      "3 x 1 = 3\n",
      "3 x 2 = 6\n",
      "3 x 3 = 9\n",
      "3 x 4 = 12\n",
      "3 x 5 = 15\n",
      "3 x 6 = 18\n",
      "3 x 7 = 21\n",
      "3 x 8 = 24\n",
      "3 x 9 = 27\n",
      "3 x 10 = 30\n",
      "--------------------\n",
      "4 x 1 = 4\n",
      "4 x 2 = 8\n",
      "4 x 3 = 12\n",
      "4 x 4 = 16\n",
      "4 x 5 = 20\n",
      "4 x 6 = 24\n",
      "4 x 7 = 28\n",
      "4 x 8 = 32\n",
      "4 x 9 = 36\n",
      "4 x 10 = 40\n",
      "--------------------\n",
      "5 x 1 = 5\n",
      "5 x 2 = 10\n",
      "5 x 3 = 15\n",
      "5 x 4 = 20\n",
      "5 x 5 = 25\n",
      "5 x 6 = 30\n",
      "5 x 7 = 35\n",
      "5 x 8 = 40\n",
      "5 x 9 = 45\n",
      "5 x 10 = 50\n",
      "--------------------\n",
      "6 x 1 = 6\n",
      "6 x 2 = 12\n",
      "6 x 3 = 18\n",
      "6 x 4 = 24\n",
      "6 x 5 = 30\n",
      "6 x 6 = 36\n",
      "6 x 7 = 42\n",
      "6 x 8 = 48\n",
      "6 x 9 = 54\n",
      "6 x 10 = 60\n",
      "--------------------\n",
      "7 x 1 = 7\n",
      "7 x 2 = 14\n",
      "7 x 3 = 21\n",
      "7 x 4 = 28\n",
      "7 x 5 = 35\n",
      "7 x 6 = 42\n",
      "7 x 7 = 49\n",
      "7 x 8 = 56\n",
      "7 x 9 = 63\n",
      "7 x 10 = 70\n",
      "--------------------\n",
      "8 x 1 = 8\n",
      "8 x 2 = 16\n",
      "8 x 3 = 24\n",
      "8 x 4 = 32\n",
      "8 x 5 = 40\n",
      "8 x 6 = 48\n",
      "8 x 7 = 56\n",
      "8 x 8 = 64\n",
      "8 x 9 = 72\n",
      "8 x 10 = 80\n",
      "--------------------\n",
      "9 x 1 = 9\n",
      "9 x 2 = 18\n",
      "9 x 3 = 27\n",
      "9 x 4 = 36\n",
      "9 x 5 = 45\n",
      "9 x 6 = 54\n",
      "9 x 7 = 63\n",
      "9 x 8 = 72\n",
      "9 x 9 = 81\n",
      "9 x 10 = 90\n",
      "--------------------\n"
     ]
    }
   ],
   "source": [
    "for i in range (2,10):\n",
    "    for j in range(1,11):\n",
    "        print(i,\"x\",j,\"=\",i*j)\n",
    "    print(\"--------------------\")"
   ]
  },
  {
   "cell_type": "code",
   "execution_count": 4,
   "id": "82ac5cdd",
   "metadata": {},
   "outputs": [
    {
     "name": "stdout",
     "output_type": "stream",
     "text": [
      "2 x 1 = 2\n",
      "2 x 2 = 4\n",
      "2 x 3 = 6\n",
      "2 x 4 = 8\n",
      "2 x 5 = 10\n",
      "2 x 6 = 12\n",
      "2 x 7 = 14\n",
      "2 x 8 = 16\n",
      "2 x 9 = 18\n",
      "2 x 10 = 20\n",
      "------------\n",
      "3 x 1 = 3\n",
      "3 x 2 = 6\n",
      "3 x 3 = 9\n",
      "3 x 4 = 12\n",
      "3 x 5 = 15\n",
      "3 x 6 = 18\n",
      "3 x 7 = 21\n",
      "3 x 8 = 24\n",
      "3 x 9 = 27\n",
      "3 x 10 = 30\n",
      "------------\n",
      "4 x 1 = 4\n",
      "4 x 2 = 8\n",
      "4 x 3 = 12\n",
      "4 x 4 = 16\n",
      "4 x 5 = 20\n",
      "4 x 6 = 24\n",
      "4 x 7 = 28\n",
      "4 x 8 = 32\n",
      "4 x 9 = 36\n",
      "4 x 10 = 40\n",
      "------------\n",
      "5 x 1 = 5\n",
      "5 x 2 = 10\n",
      "5 x 3 = 15\n",
      "5 x 4 = 20\n",
      "5 x 5 = 25\n",
      "5 x 6 = 30\n",
      "5 x 7 = 35\n",
      "5 x 8 = 40\n",
      "5 x 9 = 45\n",
      "5 x 10 = 50\n",
      "------------\n",
      "6 x 1 = 6\n",
      "6 x 2 = 12\n",
      "6 x 3 = 18\n",
      "6 x 4 = 24\n",
      "6 x 5 = 30\n",
      "6 x 6 = 36\n",
      "6 x 7 = 42\n",
      "6 x 8 = 48\n",
      "6 x 9 = 54\n",
      "6 x 10 = 60\n",
      "------------\n",
      "7 x 1 = 7\n",
      "7 x 2 = 14\n",
      "7 x 3 = 21\n",
      "7 x 4 = 28\n",
      "7 x 5 = 35\n",
      "7 x 6 = 42\n",
      "7 x 7 = 49\n",
      "7 x 8 = 56\n",
      "7 x 9 = 63\n",
      "7 x 10 = 70\n",
      "------------\n",
      "8 x 1 = 8\n",
      "8 x 2 = 16\n",
      "8 x 3 = 24\n",
      "8 x 4 = 32\n",
      "8 x 5 = 40\n",
      "8 x 6 = 48\n",
      "8 x 7 = 56\n",
      "8 x 8 = 64\n",
      "8 x 9 = 72\n",
      "8 x 10 = 80\n",
      "------------\n",
      "9 x 1 = 9\n",
      "9 x 2 = 18\n",
      "9 x 3 = 27\n",
      "9 x 4 = 36\n",
      "9 x 5 = 45\n",
      "9 x 6 = 54\n",
      "9 x 7 = 63\n",
      "9 x 8 = 72\n",
      "9 x 9 = 81\n",
      "9 x 10 = 90\n",
      "------------\n"
     ]
    }
   ],
   "source": [
    "i=2\n",
    "#j=1\n",
    "while i<10 :\n",
    "    for j in range(1,11):\n",
    "        print(i,\"x\",j,\"=\",i*j)\n",
    "    i=i+1\n",
    "    print(\"------------\")\n",
    "\n",
    "        "
   ]
  },
  {
   "cell_type": "code",
   "execution_count": 3,
   "id": "70b90cab",
   "metadata": {},
   "outputs": [
    {
     "name": "stdout",
     "output_type": "stream",
     "text": [
      "2 x 1 = 2\n",
      "2 x 2 = 4\n",
      "2 x 3 = 6\n",
      "2 x 4 = 8\n",
      "2 x 5 = 10\n",
      "2 x 6 = 12\n",
      "2 x 7 = 14\n",
      "2 x 8 = 16\n",
      "2 x 9 = 18\n",
      "2 x 10 = 20\n",
      "------------\n",
      "3 x 1 = 3\n",
      "3 x 2 = 6\n",
      "3 x 3 = 9\n",
      "3 x 4 = 12\n",
      "3 x 5 = 15\n",
      "3 x 6 = 18\n",
      "3 x 7 = 21\n",
      "3 x 8 = 24\n",
      "3 x 9 = 27\n",
      "3 x 10 = 30\n",
      "------------\n",
      "4 x 1 = 4\n",
      "4 x 2 = 8\n",
      "4 x 3 = 12\n",
      "4 x 4 = 16\n",
      "4 x 5 = 20\n",
      "4 x 6 = 24\n",
      "4 x 7 = 28\n",
      "4 x 8 = 32\n",
      "4 x 9 = 36\n",
      "4 x 10 = 40\n",
      "------------\n",
      "5 x 1 = 5\n",
      "5 x 2 = 10\n",
      "5 x 3 = 15\n",
      "5 x 4 = 20\n",
      "5 x 5 = 25\n",
      "5 x 6 = 30\n",
      "5 x 7 = 35\n",
      "5 x 8 = 40\n",
      "5 x 9 = 45\n",
      "5 x 10 = 50\n",
      "------------\n",
      "6 x 1 = 6\n",
      "6 x 2 = 12\n",
      "6 x 3 = 18\n",
      "6 x 4 = 24\n",
      "6 x 5 = 30\n",
      "6 x 6 = 36\n",
      "6 x 7 = 42\n",
      "6 x 8 = 48\n",
      "6 x 9 = 54\n",
      "6 x 10 = 60\n",
      "------------\n",
      "7 x 1 = 7\n",
      "7 x 2 = 14\n",
      "7 x 3 = 21\n",
      "7 x 4 = 28\n",
      "7 x 5 = 35\n",
      "7 x 6 = 42\n",
      "7 x 7 = 49\n",
      "7 x 8 = 56\n",
      "7 x 9 = 63\n",
      "7 x 10 = 70\n",
      "------------\n",
      "8 x 1 = 8\n",
      "8 x 2 = 16\n",
      "8 x 3 = 24\n",
      "8 x 4 = 32\n",
      "8 x 5 = 40\n",
      "8 x 6 = 48\n",
      "8 x 7 = 56\n",
      "8 x 8 = 64\n",
      "8 x 9 = 72\n",
      "8 x 10 = 80\n",
      "------------\n",
      "9 x 1 = 9\n",
      "9 x 2 = 18\n",
      "9 x 3 = 27\n",
      "9 x 4 = 36\n",
      "9 x 5 = 45\n",
      "9 x 6 = 54\n",
      "9 x 7 = 63\n",
      "9 x 8 = 72\n",
      "9 x 9 = 81\n",
      "9 x 10 = 90\n",
      "------------\n"
     ]
    }
   ],
   "source": [
    "i=2\n",
    "j=1\n",
    "while i<10 :\n",
    "    while j<11:\n",
    "        print(i,\"x\",j,\"=\",i*j)\n",
    "        j=j+1\n",
    "    i=i+1    \n",
    "    j=1\n",
    "    \n",
    "    print(\"------------\")"
   ]
  },
  {
   "cell_type": "code",
   "execution_count": 7,
   "id": "8d163ac3",
   "metadata": {},
   "outputs": [
    {
     "name": "stdout",
     "output_type": "stream",
     "text": [
      "<function so_max at 0x000001D63DC988B0>\n"
     ]
    }
   ],
   "source": [
    "#tìm số lớn nhất\n",
    "a=[1,2,3,4,6,7,99,88,999]\n",
    "#max=0\n",
    "def so_max(a):\n",
    "    max=a[0]\n",
    "    for i in a:\n",
    "        if i>max:\n",
    "            max=i\n",
    "    return so_max\n",
    "print(so_max)\n",
    "\n",
    "\n",
    "\n"
   ]
  },
  {
   "cell_type": "code",
   "execution_count": 11,
   "id": "deda623a",
   "metadata": {},
   "outputs": [],
   "source": [
    "a=[77,2,3,4,6,7,99,88,999]\n",
    "#max=0\n",
    "#vt_min=a[i]\n",
    "#print(so_min)\n",
    "#range(len(a))\n",
    "def so_min(L):\n",
    "    vt_min=a[i]\n",
    "    for i in range(len(a)):\n",
    "            \n",
    "#            if i>max:\n",
    "#                  max=i\n",
    "            if i<vt_min:\n",
    "                vt_min=i\n",
    "#print(\"max:\",max)\n",
    "            print(\"min:\",vt_min)\n",
    "\n"
   ]
  },
  {
   "cell_type": "code",
   "execution_count": 17,
   "id": "144dce7d",
   "metadata": {},
   "outputs": [],
   "source": [
    "a=[77,2,3,4,6,7,99,88,999]\n",
    "def so_nho_nhat(a):\n",
    "   soNhoNhat = a[0]\n",
    "   for so in danhSachSo:\n",
    "       if so < soNhoNhat:\n",
    "           soNhoNhat = so\n",
    "   return soNhoNhat"
   ]
  }
 ],
 "metadata": {
  "kernelspec": {
   "display_name": "Python 3 (ipykernel)",
   "language": "python",
   "name": "python3"
  },
  "language_info": {
   "codemirror_mode": {
    "name": "ipython",
    "version": 3
   },
   "file_extension": ".py",
   "mimetype": "text/x-python",
   "name": "python",
   "nbconvert_exporter": "python",
   "pygments_lexer": "ipython3",
   "version": "3.10.0"
  }
 },
 "nbformat": 4,
 "nbformat_minor": 5
}
