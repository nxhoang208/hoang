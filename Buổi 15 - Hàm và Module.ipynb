{
 "cells": [
  {
   "cell_type": "markdown",
   "id": "73456e5e",
   "metadata": {},
   "source": [
    "# Hàm\n",
    "\n",
    "### Hàm\n",
    "\n",
    "Cú pháp:\n",
    "\n",
    "`def <tên hàm>(<tham số)>:\n",
    "    //Nội dung hàm`\n",
    "\n",
    "Gọi hàm:\n",
    "`<tên hàm>(<giá trị đầu vào>)`\n",
    "\n",
    "Ví dụ:\n",
    "\n",
    "Hãy viết 1 hàm số để tính tổng 2 số đầu vào và in nó ra màn hình"
   ]
  },
  {
   "cell_type": "code",
   "execution_count": 2,
   "id": "af5b9f6d",
   "metadata": {},
   "outputs": [
    {
     "name": "stdout",
     "output_type": "stream",
     "text": [
      "9\n"
     ]
    }
   ],
   "source": [
    "def tinhtong(a,b):\n",
    "    tong = a+b\n",
    "    print(tong)\n",
    "tinhtong(3,6)"
   ]
  },
  {
   "cell_type": "code",
   "execution_count": 8,
   "id": "8a585356",
   "metadata": {},
   "outputs": [
    {
     "name": "stdout",
     "output_type": "stream",
     "text": [
      "2\n",
      "None\n"
     ]
    }
   ],
   "source": [
    "#hàm tính hiêu hai số a,b\n",
    "def tinhhieu(a,b):\n",
    "    hieu = abs(a-b)\n",
    "    print(hieu)\n",
    "c=tinhhieu(3,5)\n",
    "print(c)\n",
    "\n",
    "        \n"
   ]
  },
  {
   "cell_type": "code",
   "execution_count": 7,
   "id": "bd21b37e",
   "metadata": {},
   "outputs": [
    {
     "name": "stdout",
     "output_type": "stream",
     "text": [
      "hello\n",
      "hello\n",
      "hello\n"
     ]
    }
   ],
   "source": [
    "# in 3 lần chữ hello\n",
    "def in3hello():\n",
    "    print('hello')\n",
    "    print('hello')\n",
    "    print('hello')\n",
    "in3hello()"
   ]
  },
  {
   "cell_type": "markdown",
   "id": "a7c39f47",
   "metadata": {},
   "source": [
    "### Giá trị trả về của hàm\n",
    "\n",
    "# return\n",
    "\n",
    "Cú pháp:\n",
    "\n",
    "`retrun <giá trị trả về`\n",
    "\n",
    "##### Lưu ý: Sau khi thực hiện lệnh return, chương trình sẽ thoát khỏi hàm ngay lập tức (những lệnh sau đó không được thực hiện)\n",
    "\n",
    "Ví dụ:\n",
    "\n",
    "Hãy viết 1 hàm trả về giá trị trung bình của 2 số bất kỳ"
   ]
  },
  {
   "cell_type": "code",
   "execution_count": 18,
   "id": "0b527b95",
   "metadata": {},
   "outputs": [
    {
     "name": "stdout",
     "output_type": "stream",
     "text": [
      "4\n"
     ]
    }
   ],
   "source": [
    "#không dùng return\n",
    "def trituyetdoi(a):\n",
    "    if a>0:\n",
    "        pritn(a)\n",
    "    else:\n",
    "        print(-a)\n",
    "     \n",
    "trituyetdoi(-4)\n"
   ]
  },
  {
   "cell_type": "code",
   "execution_count": 20,
   "id": "a63f8fe4",
   "metadata": {},
   "outputs": [
    {
     "name": "stdout",
     "output_type": "stream",
     "text": [
      "7\n"
     ]
    }
   ],
   "source": [
    "def trituyetdoi(a):\n",
    "    if a<0:\n",
    "        print(a*-1)\n",
    "    else:\n",
    "        print(a)\n",
    "trituyetdoi(-7)"
   ]
  },
  {
   "cell_type": "code",
   "execution_count": 21,
   "id": "f56a9064",
   "metadata": {},
   "outputs": [
    {
     "name": "stdout",
     "output_type": "stream",
     "text": [
      "4\n"
     ]
    }
   ],
   "source": [
    "def trituyetdoi(a):\n",
    "    if a<0:\n",
    "        return a*-1\n",
    "    return a\n",
    "b = trituyetdoi(-4)\n",
    "print(b)"
   ]
  },
  {
   "cell_type": "code",
   "execution_count": 100,
   "id": "9a8ecea7",
   "metadata": {},
   "outputs": [
    {
     "name": "stdout",
     "output_type": "stream",
     "text": [
      "64\n"
     ]
    }
   ],
   "source": [
    "# viết hàm tính tích thương, giai thừa\n",
    "def tinhtich(a,b):\n",
    "    return a*b\n",
    "#c=tinhtich(2,3)\n",
    "def tinhthuong(a,b):\n",
    "    return a/b\n",
    "#d = tinhthuong(4,6)\n",
    "def giaithua(a):\n",
    "    for i in range (a):\n",
    "        b = a**i\n",
    "    return b\n",
    "print(giaithua(4))"
   ]
  },
  {
   "cell_type": "markdown",
   "id": "1d7f8db0",
   "metadata": {},
   "source": [
    "### Bài tập"
   ]
  },
  {
   "cell_type": "markdown",
   "id": "75fb488b",
   "metadata": {},
   "source": [
    "Viết hàm kiểm tra số nguyên tố"
   ]
  },
  {
   "cell_type": "code",
   "execution_count": 71,
   "id": "63701bd7",
   "metadata": {},
   "outputs": [
    {
     "name": "stdout",
     "output_type": "stream",
     "text": [
      "Đây không phải là số nguyên tố\n"
     ]
    }
   ],
   "source": [
    "def songuyento(a):\n",
    "    dem = 0\n",
    "    for i in range(0,a+1):\n",
    "        if (a % i == 0):\n",
    "            dem = dem + 1   \n",
    "    if (dem == 2):\n",
    "         return True\n",
    "    return False\n",
    "if (songuyento(-44)):\n",
    "    print(\"Đây là số nguyên tố\")\n",
    "else:\n",
    "    print(\"Đây không phải là số nguyên tố\")\n",
    "    "
   ]
  },
  {
   "cell_type": "code",
   "execution_count": 65,
   "id": "fbfb0507",
   "metadata": {},
   "outputs": [
    {
     "name": "stdout",
     "output_type": "stream",
     "text": [
      "Đây là số nguyên tố\n"
     ]
    }
   ],
   "source": [
    "def songuyento(a):\n",
    "    for i in range(2,int(a**(1/2)) +1):\n",
    "        if a % i ==0:\n",
    "                        \n",
    "            return False\n",
    "        return True\n",
    "if (songuyento(5)):\n",
    "    print(\"Đây là số nguyên tố\")\n",
    "else:\n",
    "    print(\"Đây không phải là số nguyên tố\")"
   ]
  },
  {
   "cell_type": "code",
   "execution_count": 55,
   "id": "193b9a04",
   "metadata": {},
   "outputs": [
    {
     "data": {
      "text/plain": [
       "False"
      ]
     },
     "execution_count": 55,
     "metadata": {},
     "output_type": "execute_result"
    }
   ],
   "source": [
    "def songuyento(a):\n",
    "    if a>=2:\n",
    "        b=1\n",
    "        dem = 0\n",
    "        for i in range(a):\n",
    "            if a%b==0:\n",
    "                dem=dem+1\n",
    "            b=b+1\n",
    "        if dem!=2:\n",
    "            return False\n",
    "        return True\n",
    "#   return False\n",
    "songuyento(6)"
   ]
  },
  {
   "cell_type": "markdown",
   "id": "221103cf",
   "metadata": {},
   "source": [
    "Nhập vào 3 điểm toán, lý, hóa\n",
    "\n",
    "Hãy viết hàm in điểm trung bung bình rồi tính điểm trung bình của toán lý, toán hóa, lý hóa và toán lý hóa"
   ]
  },
  {
   "cell_type": "raw",
   "id": "98ca6e36",
   "metadata": {},
   "source": [
    "def diemtb3mon(diem_toan,diem_ly,diem_hoa):\n",
    "    diemtb = float(diem_toan+diem_ly + diem_hoa)/3\n",
    "def diemtb2mon():\n",
    "    toan_ly = float(diem_toan + diem_ly)/2\n",
    "    toan_hoa = float(diem_toan +diem_hoa)/2\n",
    "    ly_hoa = float(diem_ly + diem_hoa)/2\n",
    "print(diemtb3mon(4,5,8))\n",
    "    "
   ]
  },
  {
   "cell_type": "markdown",
   "id": "50f43307",
   "metadata": {},
   "source": [
    "Viết hàm đếm số lượng từ của một chuỗi đưa vào"
   ]
  },
  {
   "cell_type": "code",
   "execution_count": 91,
   "id": "be785b29",
   "metadata": {},
   "outputs": [
    {
     "ename": "TypeError",
     "evalue": "'str' object cannot be interpreted as an integer",
     "output_type": "error",
     "traceback": [
      "\u001b[1;31m---------------------------------------------------------------------------\u001b[0m",
      "\u001b[1;31mTypeError\u001b[0m                                 Traceback (most recent call last)",
      "\u001b[1;32m~\\AppData\\Local\\Temp/ipykernel_5840/786652727.py\u001b[0m in \u001b[0;36m<module>\u001b[1;34m\u001b[0m\n\u001b[0;32m      7\u001b[0m \u001b[1;33m\u001b[0m\u001b[0m\n\u001b[0;32m      8\u001b[0m \u001b[1;33m\u001b[0m\u001b[0m\n\u001b[1;32m----> 9\u001b[1;33m \u001b[0mprint\u001b[0m\u001b[1;33m(\u001b[0m\u001b[0mdemchuoi\u001b[0m\u001b[1;33m(\u001b[0m\u001b[1;34m\"1234\"\u001b[0m\u001b[1;33m)\u001b[0m\u001b[1;33m)\u001b[0m\u001b[1;33m\u001b[0m\u001b[1;33m\u001b[0m\u001b[0m\n\u001b[0m\u001b[0;32m     10\u001b[0m \u001b[1;33m\u001b[0m\u001b[0m\n",
      "\u001b[1;32m~\\AppData\\Local\\Temp/ipykernel_5840/786652727.py\u001b[0m in \u001b[0;36mdemchuoi\u001b[1;34m(a)\u001b[0m\n\u001b[0;32m      1\u001b[0m \u001b[1;32mdef\u001b[0m \u001b[0mdemchuoi\u001b[0m\u001b[1;33m(\u001b[0m\u001b[0ma\u001b[0m\u001b[1;33m)\u001b[0m\u001b[1;33m:\u001b[0m\u001b[1;33m\u001b[0m\u001b[1;33m\u001b[0m\u001b[0m\n\u001b[0;32m      2\u001b[0m     \u001b[0mdem\u001b[0m \u001b[1;33m=\u001b[0m \u001b[1;36m0\u001b[0m\u001b[1;33m\u001b[0m\u001b[1;33m\u001b[0m\u001b[0m\n\u001b[1;32m----> 3\u001b[1;33m     \u001b[1;32mfor\u001b[0m \u001b[0mi\u001b[0m \u001b[1;32min\u001b[0m \u001b[0mrange\u001b[0m\u001b[1;33m(\u001b[0m\u001b[0ma\u001b[0m\u001b[1;33m)\u001b[0m\u001b[1;33m:\u001b[0m\u001b[1;33m\u001b[0m\u001b[1;33m\u001b[0m\u001b[0m\n\u001b[0m\u001b[0;32m      4\u001b[0m         \u001b[0ma\u001b[0m \u001b[1;33m=\u001b[0m  \u001b[0ma\u001b[0m\u001b[1;33m.\u001b[0m\u001b[0mcount\u001b[0m\u001b[1;33m[\u001b[0m\u001b[1;36m0\u001b[0m\u001b[1;33m:\u001b[0m\u001b[0ma\u001b[0m\u001b[1;33m]\u001b[0m\u001b[1;33m\u001b[0m\u001b[1;33m\u001b[0m\u001b[0m\n\u001b[0;32m      5\u001b[0m         \u001b[0mdem\u001b[0m\u001b[1;33m=\u001b[0m\u001b[0mdem\u001b[0m\u001b[1;33m+\u001b[0m\u001b[1;36m1\u001b[0m\u001b[1;33m\u001b[0m\u001b[1;33m\u001b[0m\u001b[0m\n",
      "\u001b[1;31mTypeError\u001b[0m: 'str' object cannot be interpreted as an integer"
     ]
    }
   ],
   "source": [
    "def demchuoi(a):\n",
    "    dem = 0\n",
    "    for i in range(a):\n",
    "        a =  a.count[0:a]\n",
    "        dem=dem+1\n",
    "#    return a\n",
    "        \n",
    "    \n",
    "print(demchuoi(\"1234\"))\n",
    "    "
   ]
  },
  {
   "cell_type": "markdown",
   "id": "b4adef40",
   "metadata": {},
   "source": [
    "Viết một hàm vẽ hình tròn, một hàm vẽ hình vuông và một hàm vẽ hình tam giác đều (giá trị đầu vào là a)\n",
    "\n",
    "Tất cả hàm này, bắt đầu từ 1 vị trí, sau khi vẽ ra, con trỏ sẽ tiến tới vị trí tiếp theo, cách vì đầu một khoảng a + 10 theo chiều x từ trái sang"
   ]
  },
  {
   "cell_type": "code",
   "execution_count": 2,
   "id": "e405d1d4",
   "metadata": {
    "scrolled": true
   },
   "outputs": [
    {
     "name": "stdout",
     "output_type": "stream",
     "text": [
      "Nhập a:50\n",
      "Nhập vào chuỗi:tròn,vuông,tam giác,vuông,tròn\n"
     ]
    }
   ],
   "source": [
    "mport turtle\n",
    "\n",
    "t = turtle.Turtle()\n",
    "t.penup()\n",
    "\n",
    "def hinhtron(a):\n",
    "    t.fd(a/2)\n",
    "    t.pendown()\n",
    "    t.circle(a/2)\n",
    "    t.penup()\n",
    "    t.fd(a/2+10)\n",
    "    \n",
    "def hinhvuong(a):\n",
    "    t.pendown()\n",
    "    for i in range(4):\n",
    "        t.fd(a)\n",
    "        t.left(90)\n",
    "    t.penup()\n",
    "    t.fd(a + 10)\n",
    "    \n",
    "def tamgiacdeu(a):\n",
    "    t.pendown()\n",
    "    for i in range(3):\n",
    "        t.fd(a)\n",
    "        t.left(120)\n",
    "    t.penup()\n",
    "    t.fd(a + 10)\n",
    "    \n",
    "hinhtron(50)\n",
    "hinhvuong(50)\n",
    "tamgiacdeu(50)\n"
   ]
  }
 ],
 "metadata": {
  "kernelspec": {
   "display_name": "Python 3 (ipykernel)",
   "language": "python",
   "name": "python3"
  },
  "language_info": {
   "codemirror_mode": {
    "name": "ipython",
    "version": 3
   },
   "file_extension": ".py",
   "mimetype": "text/x-python",
   "name": "python",
   "nbconvert_exporter": "python",
   "pygments_lexer": "ipython3",
   "version": "3.10.0"
  }
 },
 "nbformat": 4,
 "nbformat_minor": 5
}
