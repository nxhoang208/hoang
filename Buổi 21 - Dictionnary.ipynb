{
 "cells": [
  {
   "cell_type": "markdown",
   "id": "a20f121d",
   "metadata": {},
   "source": [
    "# Dictionnary\n",
    "\n",
    "Dictionnary là một dạng list đặc biệt, nó khác list ở chỗ không lưu trữ các giá trị theo chỉ số vị trí, thay vào đó Dictionary sẽ lưu trữ các giá trị theo key\n",
    "\n",
    "##### Tài liệu tham khảo: https://www.w3schools.com/python/python_dictionaries.asp\n",
    "\n",
    "### Khai báo một dictionary\n",
    "\n",
    "Cú pháp:\n",
    "\n",
    "`<tên dictionary> = {}`\n",
    "\n",
    "### Dictionary được khai báo bằng hai dấu hoặc nhọn\n",
    "\n",
    "Đây là một dictionary rỗng\n",
    "\n",
    "<b>Ví dụ 1:</b>\n",
    "\n",
    "`a = {}`\n",
    "\n",
    "a là một dictionary rỗng\n",
    "\n",
    "<b>Ví dụ 2:</b>\n",
    "\n",
    "`a = {\"tên\": \"Nguyễn Tâm Điền\", \"tuổi\": 13, \"giới tính\": \"Nam\"}`\n",
    "\n",
    "b là một dictionary có 3 key, mõi key đều có một giá trị riêng biệt\n",
    "\n",
    "Key có thể mang kiểu dữ liệu là chuỗi hoặc số\n",
    "\n",
    "##### Mỗi một key đều phải có giá trị của riêng nó, không thể khai báo key không có giá trị\n",
    "\n",
    "<b>Hãy khai báo một dictionary có 3 phần tử</b>"
   ]
  },
  {
   "cell_type": "code",
   "execution_count": 2,
   "id": "d835f461",
   "metadata": {},
   "outputs": [
    {
     "name": "stdout",
     "output_type": "stream",
     "text": [
      "Nguyễn Tâm Điền\n"
     ]
    }
   ],
   "source": [
    "a = {\"tên\": \"Nguyễn Tâm Điền\", \"tuổi\": 13, \"giới tính\": \"Nam\"}\n",
    "print(a[\"tên\"])"
   ]
  },
  {
   "cell_type": "code",
   "execution_count": 8,
   "id": "ce2e9c0f",
   "metadata": {},
   "outputs": [
    {
     "name": "stdout",
     "output_type": "stream",
     "text": [
      "tên\n",
      "Nguyễn Tâm Điền\n",
      "tuổi\n",
      "13\n",
      "giới tính\n",
      "Nam\n"
     ]
    }
   ],
   "source": [
    "a = {\"tên\": \"Nguyễn Tâm Điền\", \"tuổi\": 13, \"giới tính\": \"Nam\"}\n",
    "for i in a:\n",
    "    print(i)\n",
    "    print(a[i])"
   ]
  },
  {
   "cell_type": "markdown",
   "id": "be1e321c",
   "metadata": {},
   "source": [
    "### Thêm key vào dictionary\n",
    "\n",
    "Cú pháp:\n",
    "\n",
    "`<tên dictionary>[<key>] = <giá trị>`\n",
    "\n",
    "<b>Ví dụ 1:</b>\n",
    "\n",
    "`a = {}\n",
    "a[\"tên\"] = \"NTD\"`\n",
    "\n",
    "a là một dictionary có một phần tử, phần tử đó có key là \"tên\" và giá trị của key đó là \"NTD\"\n",
    "\n",
    "##### Lưu ý, nếu trong trường hợp đã tồn tại key trong dictionary, dùng lệnh trên sẽ thay đổi giá trị key đó (không phải thêm key khác vào)\n",
    "\n",
    "<b>Ví dụ 2:</b>\n",
    "\n",
    "`a = {}\n",
    "a[\"tên\"] = \"NTD\"\n",
    "a[\"tên\"] = \"Nguyễn Tâm Điền\"`\n",
    "\n",
    "a vẫn là một dictionary có một phần tử, phần tử đó có key là \"tên\" và giá trị của key đó là \"Nguyễn Tâm Điền\"\n",
    "\n",
    "<b>Hãy khai báo một dictionary không có phần tử nào, sau đó thêm một phần tử vào dictionary đó</b>"
   ]
  },
  {
   "cell_type": "code",
   "execution_count": 5,
   "id": "7573ebef",
   "metadata": {},
   "outputs": [],
   "source": [
    "a = {}\n",
    "#a[\"tên\"] = \"NTD\"\n",
    "a[\"tên\"] = \"Nguyễn Tâm Điền\""
   ]
  },
  {
   "cell_type": "markdown",
   "id": "65c98825",
   "metadata": {},
   "source": [
    "### Truy xuất phần tử trong dictionary\n",
    "\n",
    "Cú pháp:\n",
    "\n",
    "`<tên dictionary>[<key>]`\n",
    "\n",
    "<b>Ví dụ:</b>\n",
    "\n",
    "`a = {\"tên\": \"Nguyễn Tâm Điền\", \"tuổi\": 13, \"giới tính\": \"Nam\"}\n",
    "print(a[\"tên\"])`\n",
    "\n",
    "Màn hình sẽ in: Nguyễn Tâm Điền\n",
    "\n",
    "<b>Hãy khai báo một dictionary rồi in ra màn hình một phần tử bất kỳ trong dictionary đó</b>"
   ]
  },
  {
   "cell_type": "code",
   "execution_count": 5,
   "id": "f6159385",
   "metadata": {},
   "outputs": [
    {
     "name": "stdout",
     "output_type": "stream",
     "text": [
      "Nguyễn Tâm Điền\n"
     ]
    }
   ],
   "source": [
    "a = {\"tên\": \"Nguyễn Tâm Điền\", \"tuổi\": 13, \"giới tính\": \"Nam\"}\n",
    "print(a[\"tên\"])\n",
    "\n"
   ]
  },
  {
   "cell_type": "markdown",
   "id": "afa92f87",
   "metadata": {},
   "source": [
    "### Sao chép dictionary\n",
    "\n",
    "##### Việc sao chép dictionary được thực hiện hệt như sao chép list, chúng ta cần phải sử dụng lệnh copy()"
   ]
  },
  {
   "cell_type": "markdown",
   "id": "ef7e800d",
   "metadata": {},
   "source": [
    "### Duyệt dictionary bằng lệnh for\n",
    "\n",
    "Cú pháp:\n",
    "\n",
    "`for <tên biến> in <tên dictionary>:`\n",
    "\n",
    "Biến sẽ có giá trị là từng key trong dictionary\n",
    "\n",
    "<b>Ví dụ:</b>\n",
    "\n",
    "`a = {\"tên\": \"Nguyễn Tâm Điền\", \"tuổi\": 13, \"giới tính\": \"Nam\"}\n",
    "for i in a:\n",
    "    print(i)`\n",
    "    \n",
    "Màn hình sẽ in ra:\n",
    "\n",
    "tên\n",
    "\n",
    "tuổi\n",
    "\n",
    "giới tính\n",
    "\n",
    "<b>Hãy khai báo một dictionary rồi in ra màn hình toàn bộ giá trị trong dictionary đó</b>"
   ]
  },
  {
   "cell_type": "code",
   "execution_count": 7,
   "id": "3bdd1508",
   "metadata": {},
   "outputs": [
    {
     "name": "stdout",
     "output_type": "stream",
     "text": [
      "tên\n",
      "Nguyễn Tâm Điền\n",
      "tuổi\n",
      "13\n",
      "giới tính\n",
      "Nam\n"
     ]
    }
   ],
   "source": [
    "a = {\"tên\": \"Nguyễn Tâm Điền\", \"tuổi\": 13, \"giới tính\": \"Nam\"}\n",
    "for i in a:\n",
    "    print(i)\n",
    "    print(a[i])"
   ]
  },
  {
   "cell_type": "markdown",
   "id": "1982f4b1",
   "metadata": {},
   "source": [
    "### Bài tập"
   ]
  },
  {
   "cell_type": "markdown",
   "id": "3060a950",
   "metadata": {},
   "source": [
    "Viết chương trình đếm số lần xuất hiện của một từ trong một văn bản nhất định"
   ]
  },
  {
   "cell_type": "code",
   "execution_count": 9,
   "id": "45de1608",
   "metadata": {},
   "outputs": [
    {
     "name": "stdout",
     "output_type": "stream",
     "text": [
      "Trước kia 1 buổi chiều, cứ vào lúc chạng vạng mặt người thì Tràng đi làm về. Hắn bước ngật ngưỡng trên con đường khẳng khiu luồn qua cái xóm chợ của những người ngụ cư vào trong bến. Hắn vừa đi vừa tủm tỉm cười, hai con mất nhỏ tí, gà gà đắm vào bóng chiều, hai bên quai hàm bạch ra, rung rung làm cho cái bộ mặt thô kệch của hắn lúc nào cũng nhấp nhính những ý nghĩ gì vừa lí thú vừa dữ tợn. Hắn có tật vừa đi vừa nói. Hắn lảm nhảm than thở những điều hắn nghĩ. Trẻ con trong xóm, cứ thấy cái thân hình to lớn, vập vạp của hắn từ dốc chợ đi xuống là ùa cả ra vây lấy hắn, reo cười váng lên: - A a a... Anh Tràng! Anh Tràng đã về chúng mày ơi! - Anh Tràng ơi bế em mấy... - Anh Tràng ơi đã uống rượu chưa? - Anh Tràng ơi!... Đứa túm đằng trước, đứa túm đằng sau, đứa cù, đứa kéo, đứa lôi chân không cho đi. Tràng chỉ ngửa mặt lên cười hềnh hệch. Cái xóm ngụ cư tồi tàn ấy mỗi chiều lại xôn xao lên được một lúc. Nhưng độ này thì trẻ con không đứa nào buồn ra đón Tràng nữa, chúng nó ngồi ủ rũ dưới những xó đường không buồn nhúc nhích. Trong bóng chiều nhá nhem, Tràng đi từng bước mệt mỏi, chiếc áo nâu tàng vắt sang một bên cánh tay, cái đầu trọc nhẵn chúi về đằng trước. Hình như những lo lắng, chật vật trong một ngày đè xuống cái lưng to rộng như lưng gấu của hắn.\n",
      "----------------------------------------------------\n",
      "Trước kia 1 buổi chiều cứ vào lúc chạng vạng mặt người thì Tràng đi làm về Hắn bước ngật ngưỡng trên con đường khẳng khiu luồn qua cái xóm chợ của những người ngụ cư vào trong bến Hắn vừa đi vừa tủm tỉm cười hai con mất nhỏ tí gà gà đắm vào bóng chiều hai bên quai hàm bạch ra rung rung làm cho cái bộ mặt thô kệch của hắn lúc nào cũng nhấp nhính những ý nghĩ gì vừa lí thú vừa dữ tợn Hắn có tật vừa đi vừa nói Hắn lảm nhảm than thở những điều hắn nghĩ Trẻ con trong xóm cứ thấy cái thân hình to lớn vập vạp của hắn từ dốc chợ đi xuống là ùa cả ra vây lấy hắn reo cười váng lên  A a a Anh Tràng Anh Tràng đã về chúng mày ơi  Anh Tràng ơi bế em mấy  Anh Tràng ơi đã uống rượu chưa  Anh Tràng ơi Đứa túm đằng trước đứa túm đằng sau đứa cù đứa kéo đứa lôi chân không cho đi Tràng chỉ ngửa mặt lên cười hềnh hệch Cái xóm ngụ cư tồi tàn ấy mỗi chiều lại xôn xao lên được một lúc Nhưng độ này thì trẻ con không đứa nào buồn ra đón Tràng nữa chúng nó ngồi ủ rũ dưới những xó đường không buồn nhúc nhích Trong bóng chiều nhá nhem Tràng đi từng bước mệt mỏi chiếc áo nâu tàng vắt sang một bên cánh tay cái đầu trọc nhẵn chúi về đằng trước Hình như những lo lắng chật vật trong một ngày đè xuống cái lưng to rộng như lưng gấu của hắn\n",
      "----------------------------------------------------\n",
      "['Trước', 'kia', '1', 'buổi', 'chiều', 'cứ', 'vào', 'lúc', 'chạng', 'vạng', 'mặt', 'người', 'thì', 'Tràng', 'đi', 'làm', 'về', 'Hắn', 'bước', 'ngật', 'ngưỡng', 'trên', 'con', 'đường', 'khẳng', 'khiu', 'luồn', 'qua', 'cái', 'xóm', 'chợ', 'của', 'những', 'người', 'ngụ', 'cư', 'vào', 'trong', 'bến', 'Hắn', 'vừa', 'đi', 'vừa', 'tủm', 'tỉm', 'cười', 'hai', 'con', 'mất', 'nhỏ', 'tí', 'gà', 'gà', 'đắm', 'vào', 'bóng', 'chiều', 'hai', 'bên', 'quai', 'hàm', 'bạch', 'ra', 'rung', 'rung', 'làm', 'cho', 'cái', 'bộ', 'mặt', 'thô', 'kệch', 'của', 'hắn', 'lúc', 'nào', 'cũng', 'nhấp', 'nhính', 'những', 'ý', 'nghĩ', 'gì', 'vừa', 'lí', 'thú', 'vừa', 'dữ', 'tợn', 'Hắn', 'có', 'tật', 'vừa', 'đi', 'vừa', 'nói', 'Hắn', 'lảm', 'nhảm', 'than', 'thở', 'những', 'điều', 'hắn', 'nghĩ', 'Trẻ', 'con', 'trong', 'xóm', 'cứ', 'thấy', 'cái', 'thân', 'hình', 'to', 'lớn', 'vập', 'vạp', 'của', 'hắn', 'từ', 'dốc', 'chợ', 'đi', 'xuống', 'là', 'ùa', 'cả', 'ra', 'vây', 'lấy', 'hắn', 'reo', 'cười', 'váng', 'lên', 'A', 'a', 'a', 'Anh', 'Tràng', 'Anh', 'Tràng', 'đã', 'về', 'chúng', 'mày', 'ơi', 'Anh', 'Tràng', 'ơi', 'bế', 'em', 'mấy', 'Anh', 'Tràng', 'ơi', 'đã', 'uống', 'rượu', 'chưa', 'Anh', 'Tràng', 'ơi', 'Đứa', 'túm', 'đằng', 'trước', 'đứa', 'túm', 'đằng', 'sau', 'đứa', 'cù', 'đứa', 'kéo', 'đứa', 'lôi', 'chân', 'không', 'cho', 'đi', 'Tràng', 'chỉ', 'ngửa', 'mặt', 'lên', 'cười', 'hềnh', 'hệch', 'Cái', 'xóm', 'ngụ', 'cư', 'tồi', 'tàn', 'ấy', 'mỗi', 'chiều', 'lại', 'xôn', 'xao', 'lên', 'được', 'một', 'lúc', 'Nhưng', 'độ', 'này', 'thì', 'trẻ', 'con', 'không', 'đứa', 'nào', 'buồn', 'ra', 'đón', 'Tràng', 'nữa', 'chúng', 'nó', 'ngồi', 'ủ', 'rũ', 'dưới', 'những', 'xó', 'đường', 'không', 'buồn', 'nhúc', 'nhích', 'Trong', 'bóng', 'chiều', 'nhá', 'nhem', 'Tràng', 'đi', 'từng', 'bước', 'mệt', 'mỏi', 'chiếc', 'áo', 'nâu', 'tàng', 'vắt', 'sang', 'một', 'bên', 'cánh', 'tay', 'cái', 'đầu', 'trọc', 'nhẵn', 'chúi', 'về', 'đằng', 'trước', 'Hình', 'như', 'những', 'lo', 'lắng', 'chật', 'vật', 'trong', 'một', 'ngày', 'đè', 'xuống', 'cái', 'lưng', 'to', 'rộng', 'như', 'lưng', 'gấu', 'của', 'hắn']\n",
      "----------------------------------------------------\n",
      "<function demtu at 0x00000125F68A8B80>\n",
      "---------------------------------------------------\n"
     ]
    }
   ],
   "source": [
    "chuoi = \"Trước kia 1 buổi chiều, cứ vào lúc chạng vạng mặt người thì Tràng đi làm về. Hắn bước ngật ngưỡng trên con đường khẳng khiu luồn qua cái xóm chợ của những người ngụ cư vào trong bến. Hắn vừa đi vừa tủm tỉm cười, hai con mất nhỏ tí, gà gà đắm vào bóng chiều, hai bên quai hàm bạch ra, rung rung làm cho cái bộ mặt thô kệch của hắn lúc nào cũng nhấp nhính những ý nghĩ gì vừa lí thú vừa dữ tợn. Hắn có tật vừa đi vừa nói. Hắn lảm nhảm than thở những điều hắn nghĩ. Trẻ con trong xóm, cứ thấy cái thân hình to lớn, vập vạp của hắn từ dốc chợ đi xuống là ùa cả ra vây lấy hắn, reo cười váng lên: - A a a... Anh Tràng! Anh Tràng đã về chúng mày ơi! - Anh Tràng ơi bế em mấy... - Anh Tràng ơi đã uống rượu chưa? - Anh Tràng ơi!... Đứa túm đằng trước, đứa túm đằng sau, đứa cù, đứa kéo, đứa lôi chân không cho đi. Tràng chỉ ngửa mặt lên cười hềnh hệch. Cái xóm ngụ cư tồi tàn ấy mỗi chiều lại xôn xao lên được một lúc. Nhưng độ này thì trẻ con không đứa nào buồn ra đón Tràng nữa, chúng nó ngồi ủ rũ dưới những xó đường không buồn nhúc nhích. Trong bóng chiều nhá nhem, Tràng đi từng bước mệt mỏi, chiếc áo nâu tàng vắt sang một bên cánh tay, cái đầu trọc nhẵn chúi về đằng trước. Hình như những lo lắng, chật vật trong một ngày đè xuống cái lưng to rộng như lưng gấu của hắn.\"\n",
    "print(chuoi)\n",
    "chuoi = chuoi.replace(\".\",\"\")\n",
    "chuoi = chuoi.replace(\",\",\"\")\n",
    "chuoi = chuoi.replace(\":\",\"\")\n",
    "chuoi = chuoi.replace(\"!\",\"\")\n",
    "chuoi = chuoi.replace(\"?\",\"\")\n",
    "chuoi = chuoi.replace(\"-\",\"\")\n",
    "print(\"----------------------------------------------------\")\n",
    "print(chuoi)\n",
    "listtu = chuoi.split()\n",
    "print(\"----------------------------------------------------\")\n",
    "print(listtu)\n",
    "\n",
    "Dict = {}\n",
    "def demtu():\n",
    "   \n",
    "    for i in listtu:\n",
    "        i = i.lower()\n",
    "        if i not in Dict:\n",
    "            Dict[i] = 0\n",
    "        Dict[i] += 1\n",
    "print(\"----------------------------------------------------\")\n",
    "print(demtu)\n",
    "### Nhập vào một từ bất kỳ, trả về số lần nhập từ đó trong văn bản, nếu từ không có trong văn bản thì in ra 0\n",
    "print(\"---------------------------------------------------\")\n",
    "\n",
    "\n"
   ]
  },
  {
   "cell_type": "code",
   "execution_count": 10,
   "id": "ddadb23b",
   "metadata": {},
   "outputs": [
    {
     "name": "stdout",
     "output_type": "stream",
     "text": [
      "Trước kia 1 buổi chiều, cứ vào lúc chạng vạng mặt người thì Tràng đi làm về. Hắn bước ngật ngưỡng trên con đường khẳng khiu luồn qua cái xóm chợ của những người ngụ cư vào trong bến. Hắn vừa đi vừa tủm tỉm cười, hai con mất nhỏ tí, gà gà đắm vào bóng chiều, hai bên quai hàm bạch ra, rung rung làm cho cái bộ mặt thô kệch của hắn lúc nào cũng nhấp nhính những ý nghĩ gì vừa lí thú vừa dữ tợn. Hắn có tật vừa đi vừa nói. Hắn lảm nhảm than thở những điều hắn nghĩ. Trẻ con trong xóm, cứ thấy cái thân hình to lớn, vập vạp của hắn từ dốc chợ đi xuống là ùa cả ra vây lấy hắn, reo cười váng lên: - A a a... Anh Tràng! Anh Tràng đã về chúng mày ơi! - Anh Tràng ơi bế em mấy... - Anh Tràng ơi đã uống rượu chưa? - Anh Tràng ơi!... Đứa túm đằng trước, đứa túm đằng sau, đứa cù, đứa kéo, đứa lôi chân không cho đi. Tràng chỉ ngửa mặt lên cười hềnh hệch. Cái xóm ngụ cư tồi tàn ấy mỗi chiều lại xôn xao lên được một lúc. Nhưng độ này thì trẻ con không đứa nào buồn ra đón Tràng nữa, chúng nó ngồi ủ rũ dưới những xó đường không buồn nhúc nhích. Trong bóng chiều nhá nhem, Tràng đi từng bước mệt mỏi, chiếc áo nâu tàng vắt sang một bên cánh tay, cái đầu trọc nhẵn chúi về đằng trước. Hình như những lo lắng, chật vật trong một ngày đè xuống cái lưng to rộng như lưng gấu của hắn.\n",
      "----------------------------------------------------\n",
      "Trước kia 1 buổi chiều cứ vào lúc chạng vạng mặt người thì Tràng đi làm về Hắn bước ngật ngưỡng trên con đường khẳng khiu luồn qua cái xóm chợ của những người ngụ cư vào trong bến Hắn vừa đi vừa tủm tỉm cười hai con mất nhỏ tí gà gà đắm vào bóng chiều hai bên quai hàm bạch ra rung rung làm cho cái bộ mặt thô kệch của hắn lúc nào cũng nhấp nhính những ý nghĩ gì vừa lí thú vừa dữ tợn Hắn có tật vừa đi vừa nói Hắn lảm nhảm than thở những điều hắn nghĩ Trẻ con trong xóm cứ thấy cái thân hình to lớn vập vạp của hắn từ dốc chợ đi xuống là ùa cả ra vây lấy hắn reo cười váng lên  A a a Anh Tràng Anh Tràng đã về chúng mày ơi  Anh Tràng ơi bế em mấy  Anh Tràng ơi đã uống rượu chưa  Anh Tràng ơi Đứa túm đằng trước đứa túm đằng sau đứa cù đứa kéo đứa lôi chân không cho đi Tràng chỉ ngửa mặt lên cười hềnh hệch Cái xóm ngụ cư tồi tàn ấy mỗi chiều lại xôn xao lên được một lúc Nhưng độ này thì trẻ con không đứa nào buồn ra đón Tràng nữa chúng nó ngồi ủ rũ dưới những xó đường không buồn nhúc nhích Trong bóng chiều nhá nhem Tràng đi từng bước mệt mỏi chiếc áo nâu tàng vắt sang một bên cánh tay cái đầu trọc nhẵn chúi về đằng trước Hình như những lo lắng chật vật trong một ngày đè xuống cái lưng to rộng như lưng gấu của hắn\n",
      "----------------------------------------------------\n",
      "['Trước', 'kia', '1', 'buổi', 'chiều', 'cứ', 'vào', 'lúc', 'chạng', 'vạng', 'mặt', 'người', 'thì', 'Tràng', 'đi', 'làm', 'về', 'Hắn', 'bước', 'ngật', 'ngưỡng', 'trên', 'con', 'đường', 'khẳng', 'khiu', 'luồn', 'qua', 'cái', 'xóm', 'chợ', 'của', 'những', 'người', 'ngụ', 'cư', 'vào', 'trong', 'bến', 'Hắn', 'vừa', 'đi', 'vừa', 'tủm', 'tỉm', 'cười', 'hai', 'con', 'mất', 'nhỏ', 'tí', 'gà', 'gà', 'đắm', 'vào', 'bóng', 'chiều', 'hai', 'bên', 'quai', 'hàm', 'bạch', 'ra', 'rung', 'rung', 'làm', 'cho', 'cái', 'bộ', 'mặt', 'thô', 'kệch', 'của', 'hắn', 'lúc', 'nào', 'cũng', 'nhấp', 'nhính', 'những', 'ý', 'nghĩ', 'gì', 'vừa', 'lí', 'thú', 'vừa', 'dữ', 'tợn', 'Hắn', 'có', 'tật', 'vừa', 'đi', 'vừa', 'nói', 'Hắn', 'lảm', 'nhảm', 'than', 'thở', 'những', 'điều', 'hắn', 'nghĩ', 'Trẻ', 'con', 'trong', 'xóm', 'cứ', 'thấy', 'cái', 'thân', 'hình', 'to', 'lớn', 'vập', 'vạp', 'của', 'hắn', 'từ', 'dốc', 'chợ', 'đi', 'xuống', 'là', 'ùa', 'cả', 'ra', 'vây', 'lấy', 'hắn', 'reo', 'cười', 'váng', 'lên', 'A', 'a', 'a', 'Anh', 'Tràng', 'Anh', 'Tràng', 'đã', 'về', 'chúng', 'mày', 'ơi', 'Anh', 'Tràng', 'ơi', 'bế', 'em', 'mấy', 'Anh', 'Tràng', 'ơi', 'đã', 'uống', 'rượu', 'chưa', 'Anh', 'Tràng', 'ơi', 'Đứa', 'túm', 'đằng', 'trước', 'đứa', 'túm', 'đằng', 'sau', 'đứa', 'cù', 'đứa', 'kéo', 'đứa', 'lôi', 'chân', 'không', 'cho', 'đi', 'Tràng', 'chỉ', 'ngửa', 'mặt', 'lên', 'cười', 'hềnh', 'hệch', 'Cái', 'xóm', 'ngụ', 'cư', 'tồi', 'tàn', 'ấy', 'mỗi', 'chiều', 'lại', 'xôn', 'xao', 'lên', 'được', 'một', 'lúc', 'Nhưng', 'độ', 'này', 'thì', 'trẻ', 'con', 'không', 'đứa', 'nào', 'buồn', 'ra', 'đón', 'Tràng', 'nữa', 'chúng', 'nó', 'ngồi', 'ủ', 'rũ', 'dưới', 'những', 'xó', 'đường', 'không', 'buồn', 'nhúc', 'nhích', 'Trong', 'bóng', 'chiều', 'nhá', 'nhem', 'Tràng', 'đi', 'từng', 'bước', 'mệt', 'mỏi', 'chiếc', 'áo', 'nâu', 'tàng', 'vắt', 'sang', 'một', 'bên', 'cánh', 'tay', 'cái', 'đầu', 'trọc', 'nhẵn', 'chúi', 'về', 'đằng', 'trước', 'Hình', 'như', 'những', 'lo', 'lắng', 'chật', 'vật', 'trong', 'một', 'ngày', 'đè', 'xuống', 'cái', 'lưng', 'to', 'rộng', 'như', 'lưng', 'gấu', 'của', 'hắn']\n",
      "----------------------------------------------------\n",
      "{'trước': 3, 'kia': 1, '1': 1, 'buổi': 1, 'chiều': 4, 'cứ': 2, 'vào': 3, 'lúc': 3, 'chạng': 1, 'vạng': 1, 'mặt': 3, 'người': 2, 'thì': 2, 'tràng': 9, 'đi': 6, 'làm': 2, 'về': 3, 'hắn': 9, 'bước': 2, 'ngật': 1, 'ngưỡng': 1, 'trên': 1, 'con': 4, 'đường': 2, 'khẳng': 1, 'khiu': 1, 'luồn': 1, 'qua': 1, 'cái': 6, 'xóm': 3, 'chợ': 2, 'của': 4, 'những': 5, 'ngụ': 2, 'cư': 2, 'trong': 4, 'bến': 1, 'vừa': 6, 'tủm': 1, 'tỉm': 1, 'cười': 3, 'hai': 2, 'mất': 1, 'nhỏ': 1, 'tí': 1, 'gà': 2, 'đắm': 1, 'bóng': 2, 'bên': 2, 'quai': 1, 'hàm': 1, 'bạch': 1, 'ra': 3, 'rung': 2, 'cho': 2, 'bộ': 1, 'thô': 1, 'kệch': 1, 'nào': 2, 'cũng': 1, 'nhấp': 1, 'nhính': 1, 'ý': 1, 'nghĩ': 2, 'gì': 1, 'lí': 1, 'thú': 1, 'dữ': 1, 'tợn': 1, 'có': 1, 'tật': 1, 'nói': 1, 'lảm': 1, 'nhảm': 1, 'than': 1, 'thở': 1, 'điều': 1, 'trẻ': 2, 'thấy': 1, 'thân': 1, 'hình': 2, 'to': 2, 'lớn': 1, 'vập': 1, 'vạp': 1, 'từ': 1, 'dốc': 1, 'xuống': 2, 'là': 1, 'ùa': 1, 'cả': 1, 'vây': 1, 'lấy': 1, 'reo': 1, 'váng': 1, 'lên': 3, 'a': 3, 'anh': 5, 'đã': 2, 'chúng': 2, 'mày': 1, 'ơi': 4, 'bế': 1, 'em': 1, 'mấy': 1, 'uống': 1, 'rượu': 1, 'chưa': 1, 'đứa': 6, 'túm': 2, 'đằng': 3, 'sau': 1, 'cù': 1, 'kéo': 1, 'lôi': 1, 'chân': 1, 'không': 3, 'chỉ': 1, 'ngửa': 1, 'hềnh': 1, 'hệch': 1, 'tồi': 1, 'tàn': 1, 'ấy': 1, 'mỗi': 1, 'lại': 1, 'xôn': 1, 'xao': 1, 'được': 1, 'một': 3, 'nhưng': 1, 'độ': 1, 'này': 1, 'buồn': 2, 'đón': 1, 'nữa': 1, 'nó': 1, 'ngồi': 1, 'ủ': 1, 'rũ': 1, 'dưới': 1, 'xó': 1, 'nhúc': 1, 'nhích': 1, 'nhá': 1, 'nhem': 1, 'từng': 1, 'mệt': 1, 'mỏi': 1, 'chiếc': 1, 'áo': 1, 'nâu': 1, 'tàng': 1, 'vắt': 1, 'sang': 1, 'cánh': 1, 'tay': 1, 'đầu': 1, 'trọc': 1, 'nhẵn': 1, 'chúi': 1, 'như': 2, 'lo': 1, 'lắng': 1, 'chật': 1, 'vật': 1, 'ngày': 1, 'đè': 1, 'lưng': 2, 'rộng': 1, 'gấu': 1}\n"
     ]
    }
   ],
   "source": [
    "chuoi = \"Trước kia 1 buổi chiều, cứ vào lúc chạng vạng mặt người thì Tràng đi làm về. Hắn bước ngật ngưỡng trên con đường khẳng khiu luồn qua cái xóm chợ của những người ngụ cư vào trong bến. Hắn vừa đi vừa tủm tỉm cười, hai con mất nhỏ tí, gà gà đắm vào bóng chiều, hai bên quai hàm bạch ra, rung rung làm cho cái bộ mặt thô kệch của hắn lúc nào cũng nhấp nhính những ý nghĩ gì vừa lí thú vừa dữ tợn. Hắn có tật vừa đi vừa nói. Hắn lảm nhảm than thở những điều hắn nghĩ. Trẻ con trong xóm, cứ thấy cái thân hình to lớn, vập vạp của hắn từ dốc chợ đi xuống là ùa cả ra vây lấy hắn, reo cười váng lên: - A a a... Anh Tràng! Anh Tràng đã về chúng mày ơi! - Anh Tràng ơi bế em mấy... - Anh Tràng ơi đã uống rượu chưa? - Anh Tràng ơi!... Đứa túm đằng trước, đứa túm đằng sau, đứa cù, đứa kéo, đứa lôi chân không cho đi. Tràng chỉ ngửa mặt lên cười hềnh hệch. Cái xóm ngụ cư tồi tàn ấy mỗi chiều lại xôn xao lên được một lúc. Nhưng độ này thì trẻ con không đứa nào buồn ra đón Tràng nữa, chúng nó ngồi ủ rũ dưới những xó đường không buồn nhúc nhích. Trong bóng chiều nhá nhem, Tràng đi từng bước mệt mỏi, chiếc áo nâu tàng vắt sang một bên cánh tay, cái đầu trọc nhẵn chúi về đằng trước. Hình như những lo lắng, chật vật trong một ngày đè xuống cái lưng to rộng như lưng gấu của hắn.\"\n",
    "print(chuoi)\n",
    "chuoi = chuoi.replace(\".\",\"\")\n",
    "chuoi = chuoi.replace(\",\",\"\")\n",
    "chuoi = chuoi.replace(\":\",\"\")\n",
    "chuoi = chuoi.replace(\"!\",\"\")\n",
    "chuoi = chuoi.replace(\"?\",\"\")\n",
    "chuoi = chuoi.replace(\"-\",\"\")\n",
    "print(\"----------------------------------------------------\")\n",
    "print(chuoi)\n",
    "listtu = chuoi.split()\n",
    "print(\"----------------------------------------------------\")\n",
    "print(listtu)\n",
    "Dict = {}\n",
    "#def demtu():\n",
    "   \n",
    "for i in listtu:\n",
    "    i = i.lower()\n",
    "    if i not in Dict:\n",
    "        Dict[i] = 0\n",
    "    Dict[i] += 1\n",
    "print(\"----------------------------------------------------\")\n",
    "print(Dict)\n"
   ]
  },
  {
   "cell_type": "code",
   "execution_count": null,
   "id": "dcc8db4b",
   "metadata": {},
   "outputs": [],
   "source": []
  },
  {
   "cell_type": "code",
   "execution_count": null,
   "id": "af64832c",
   "metadata": {},
   "outputs": [],
   "source": []
  },
  {
   "cell_type": "markdown",
   "id": "57c6f1e7",
   "metadata": {},
   "source": [
    "Viết chương trình cho phép người dùng quản lý sản phẩm, gồm các chức năng sau: \n",
    "\n",
    "- Hiển thị danh sách sản phẩm:H\n",
    "- Thêm sản phẩm mới vào danh sách:T\n",
    "- Sửa tên của sản phẩm trong danh sách:S\n",
    "- Xoá một sản phẩm khỏi danh sách:C\n",
    "- Thoát chương trình nếu nhập 0"
   ]
  },
  {
   "cell_type": "code",
   "execution_count": 1,
   "id": "8541b8c3",
   "metadata": {
    "scrolled": true
   },
   "outputs": [
    {
     "name": "stdout",
     "output_type": "stream",
     "text": [
      "nhập số:1\n"
     ]
    },
    {
     "ename": "TypeError",
     "evalue": "'set' object is not subscriptable",
     "output_type": "error",
     "traceback": [
      "\u001b[1;31m---------------------------------------------------------------------------\u001b[0m",
      "\u001b[1;31mTypeError\u001b[0m                                 Traceback (most recent call last)",
      "\u001b[1;32m~\\AppData\\Local\\Temp/ipykernel_5048/2931351171.py\u001b[0m in \u001b[0;36m<module>\u001b[1;34m\u001b[0m\n\u001b[0;32m      9\u001b[0m     \u001b[1;31m#print(i)\u001b[0m\u001b[1;33m\u001b[0m\u001b[1;33m\u001b[0m\u001b[0m\n\u001b[0;32m     10\u001b[0m     \u001b[1;32mif\u001b[0m \u001b[0mso\u001b[0m\u001b[1;33m==\u001b[0m\u001b[1;36m1\u001b[0m\u001b[1;33m:\u001b[0m\u001b[1;33m\u001b[0m\u001b[1;33m\u001b[0m\u001b[0m\n\u001b[1;32m---> 11\u001b[1;33m        \u001b[0mprint\u001b[0m\u001b[1;33m(\u001b[0m\u001b[0msanpham\u001b[0m\u001b[1;33m=\u001b[0m\u001b[0ma\u001b[0m\u001b[1;33m[\u001b[0m\u001b[1;36m0\u001b[0m\u001b[1;33m]\u001b[0m\u001b[1;33m)\u001b[0m\u001b[1;33m\u001b[0m\u001b[1;33m\u001b[0m\u001b[0m\n\u001b[0m\u001b[0;32m     12\u001b[0m     \u001b[1;32mif\u001b[0m \u001b[0mso\u001b[0m\u001b[1;33m==\u001b[0m\u001b[1;36m2\u001b[0m\u001b[1;33m:\u001b[0m\u001b[1;33m\u001b[0m\u001b[1;33m\u001b[0m\u001b[0m\n\u001b[0;32m     13\u001b[0m        \u001b[0mprint\u001b[0m\u001b[1;33m(\u001b[0m\u001b[0msanpham\u001b[0m\u001b[1;33m=\u001b[0m\u001b[0ma\u001b[0m\u001b[1;33m[\u001b[0m\u001b[1;36m1\u001b[0m\u001b[1;33m]\u001b[0m\u001b[1;33m)\u001b[0m\u001b[1;33m\u001b[0m\u001b[1;33m\u001b[0m\u001b[0m\n",
      "\u001b[1;31mTypeError\u001b[0m: 'set' object is not subscriptable"
     ]
    }
   ],
   "source": []
  },
  {
   "cell_type": "code",
   "execution_count": null,
   "id": "e1dab8d8",
   "metadata": {},
   "outputs": [],
   "source": [
    "print(\"Mời nhập các phím theo các chức năng như sau:\")\n",
    "print(\"H: Hiển thị danh sách sản phẩm\")\n",
    "print(\"T: Thêm sản phẩm mới vào danh sách\")\n",
    "print(\"S: Sửa tên của sản phẩm trong danh sách\")\n",
    "print(\"X: Xoá một sản phẩm khỏi danh sách\")\n",
    "print(\"0: Thoát chương trình\")\n",
    "a = input(\"Mời nhập chức năng:\")\n",
    "\n",
    "def hienthi():\n",
    "    print(\"--------------\")\n",
    "    print(\"\")\n",
    "    for i in D:\n",
    "        print(i,D[i])\n",
    "    print(\"\")\n",
    "    print(\"--------------\")\n",
    "    \n",
    "def them():\n",
    "    hienthi()\n",
    "    b = input(\"Nhập ID sản phẩm (muốn thoát thì nhập 0):\")\n",
    "    if b != \"0\":\n",
    "        while b in D:\n",
    "            print(\"ID đã tồn tại, vui lòng nhập ID khác\")\n",
    "            b = input(\"Nhập ID sản phẩm (muốn thoát thì nhập O):\")\n",
    "            if b == \"0\":\n",
    "                return\n",
    "    c = input(\"Nhập tên sản phẩm: \")\n",
    "    D[b] = c\n",
    "    \n",
    "def sua():\n",
    "    hienthi()\n",
    "    b = input(\"Nhập ID sản phẩm (muốn thoát thì nhập 0):\")\n",
    "    if b != \"0\":\n",
    "        while b not in D:\n",
    "            print(\"ID không tồn tại, vui lòng nhập ID khác\")\n",
    "            b = input(\"Nhập ID sản phẩm (muốn thoát thì nhập O):\")\n",
    "            if b == \"0\":\n",
    "                return\n",
    "    c = input(\"Nhập tên sản phẩm: \")\n",
    "    D[b] = c\n",
    "    \n",
    "def xoa():\n",
    "    hienthi()\n",
    "    b = input(\"Nhập ID sản phẩm (muốn thoát thì nhập 0):\")\n",
    "    if b != \"0\":\n",
    "        while b not in D:\n",
    "            print(\"ID không tồn tại, vui lòng nhập ID khác\")\n",
    "            b = input(\"Nhập ID sản phẩm (muốn thoát thì nhập O):\")\n",
    "            if b == \"0\":\n",
    "                return\n",
    "    c = input(\"Bạn có chắc muốn xóa sản phẩm không? Nếu có nhập C, không chắc nhập bất kỳ:\")\n",
    "    if c == \"C\":\n",
    "        D.pop(b)\n",
    "        \n",
    "while a != \"0\":\n",
    "    if a == \"H\":\n",
    "        hienthi()\n",
    "    elif a == \"T\":\n",
    "        them()\n",
    "    elif a == \"S\":\n",
    "        sua()\n",
    "    elif a == \"X\":\n",
    "        xoa()\n",
    "    a = input(\"Mời nhập chức năng:\")\n"
   ]
  }
 ],
 "metadata": {
  "kernelspec": {
   "display_name": "Python 3 (ipykernel)",
   "language": "python",
   "name": "python3"
  },
  "language_info": {
   "codemirror_mode": {
    "name": "ipython",
    "version": 3
   },
   "file_extension": ".py",
   "mimetype": "text/x-python",
   "name": "python",
   "nbconvert_exporter": "python",
   "pygments_lexer": "ipython3",
   "version": "3.10.0"
  }
 },
 "nbformat": 4,
 "nbformat_minor": 5
}
