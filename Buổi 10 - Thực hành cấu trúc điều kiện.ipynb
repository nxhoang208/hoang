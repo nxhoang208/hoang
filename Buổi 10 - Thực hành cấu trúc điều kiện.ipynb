{
 "cells": [
  {
   "cell_type": "markdown",
   "id": "dcdb816e",
   "metadata": {},
   "source": [
    "# Thực hành cấu trúc điều khiển\n",
    "\n",
    "### Bài 1\n",
    "\n",
    "Cho phương trình bậc 2: ax^2 + bx + c = 0\n",
    "\n",
    "Nhập a, b, c\n",
    "\n",
    "Giải và biện luận phương trình trên"
   ]
  },
  {
   "cell_type": "code",
   "execution_count": null,
   "id": "b5a5c325",
   "metadata": {},
   "outputs": [],
   "source": [
    "a = input('nhâp a:')\n",
    "b = input('nhâp b:')\n",
    "c = input('nhâp c:')\n",
    "del = b**2 - 4*a*c\n",
    "if del < 0:\n",
    "    print('pt vô nghiệm')\n",
    "#else:\n",
    "elif del == 0\n",
    "     x1 = x2 = -b/2*a\n",
    "     print('x1:,x2:',x1,x2)\n",
    "        \n",
    "else:\n",
    "    x1 = (-b + del**1/2)/2*a\n",
    "    x2 = (-b + del**1/2)/2*a\n",
    "    print('x1:,x2:',x1,x2)\n",
    "        \n"
   ]
  },
  {
   "cell_type": "markdown",
   "id": "6f7d329d",
   "metadata": {},
   "source": [
    "### Bài 2\n",
    "\n",
    "Hãy nhập vào một số\n",
    "\n",
    "Xác định coi đó có phải là số nguyên tố hay không"
   ]
  },
  {
   "cell_type": "markdown",
   "id": "a3f86c63",
   "metadata": {},
   "source": [
    "a = int(input(\"Nhập vào số a:\"))\n",
    "dem = 0\n",
    "if a >= 2:\n",
    "    b = 1 #b sẽ tăng từ 1 tới a\n",
    "    for i in range(a):\n",
    "        if a % b == 0:\n",
    "            dem = dem + 1\n",
    "        b = b + 1 \n",
    "    if dem != 2:\n",
    "        print(\"Đây không là số nguyên tố\")\n",
    "    else:\n",
    "        print(\"Đây là số nguyên tố\")\n",
    "else:\n",
    "    print(\"Đây không là số nguyên tố\")\n"
   ]
  },
  {
   "cell_type": "code",
   "execution_count": null,
   "id": "987db7c9",
   "metadata": {},
   "outputs": [],
   "source": []
  },
  {
   "cell_type": "markdown",
   "id": "75f7717b",
   "metadata": {},
   "source": [
    "### Bài 3\n",
    "\n",
    "Hãy nhập vào số n\n",
    "\n",
    "Hãy đếm số chữ số 0 tận cùng của n giai thừa"
   ]
  },
  {
   "cell_type": "code",
   "execution_count": null,
   "id": "789e0e76",
   "metadata": {},
   "outputs": [],
   "source": []
  },
  {
   "cell_type": "markdown",
   "id": "29cd6c81",
   "metadata": {},
   "source": [
    "### Bài 4\n",
    "\n",
    "In ra tất cả các số chia hết cho 3 nhỏ hơn 100"
   ]
  },
  {
   "cell_type": "code",
   "execution_count": null,
   "id": "0b848981",
   "metadata": {},
   "outputs": [],
   "source": [
    "a = 0\n",
    "b = 100\n",
    "\n",
    "for i in range (a,b+1)\n",
    "    if b == 0:\n",
    "        print(len(100))\n"
   ]
  },
  {
   "cell_type": "markdown",
   "id": "04dbf99b",
   "metadata": {},
   "source": [
    "### Bài 5\n",
    "\n",
    "In ra tất cả các số lẻ nhưng không chia hết cho 3 nhỏ hơn 100"
   ]
  },
  {
   "cell_type": "code",
   "execution_count": null,
   "id": "769eb439",
   "metadata": {},
   "outputs": [],
   "source": [
    "a = 0\n",
    "for i in range(100):\n",
    "    if (a % 2 != 0) and (a % 3 != 0):\n",
    "        print(a)\n",
    "    a = a + 1\n"
   ]
  },
  {
   "cell_type": "markdown",
   "id": "26dd47fb",
   "metadata": {},
   "source": [
    "### Bài 5\n",
    "\n",
    "Tại một cửa hàng nọ có menu như sau:\n",
    "\n",
    "1. Gà rán giá 35k\n",
    "2. Hamburger giá 50k\n",
    "3. Pesi giá 10k\n",
    "\n",
    "Nhập số lượng món hàng cần mua\n",
    "\n",
    "Tính và in ra tổng giá tiền (hiển thị có dấu chấm mỗi 3 chữ số để người dùng để quan sát)\n",
    "\n",
    "Nếu giá trị đơn hàng trên 2 triệu, giảm 10% cho khách, trên 4 triệu, giảm 15%\n",
    "\n",
    "Tính và in ra tổng giá tiền được giảm (hiển thị có dấu chấm mỗi 3 chữ số để người dùng để quan sát)\n",
    "\n",
    "Tính và in ra tổng giá tiền khách cần trả (hiển thị có dấu chấm mỗi 3 chữ số để người dùng để quan sát)\n",
    "\n",
    "In ra dòng chữ \"Cảm ơn quý khách đã mua hàng\""
   ]
  },
  {
   "cell_type": "code",
   "execution_count": null,
   "id": "8509df1e",
   "metadata": {},
   "outputs": [],
   "source": [
    "chuoi = str(money)\n",
    "dem = 0\n",
    "vitri = len(chuoi) - 1\n",
    "for i in range(len(chuoi)):\n",
    "    dem = dem + 1\n",
    "    if (dem == 3) and vitri != 0 :\n",
    "        nuatruoc = chuoi[ :vitri]\n",
    "        nuasau = chuoi[vitri: ]\n",
    "        chuoi = nuatruoc + \".\" + nuasau\n",
    "        dem = 0\n",
    "    vitri = vitri - 1\n",
    "\n",
    "    "
   ]
  },
  {
   "cell_type": "markdown",
   "id": "ab10a1ce",
   "metadata": {},
   "source": [
    "### Bài 6\n",
    "\n",
    "Nhập vào chiều cao (cm) và cân nặng (kg), tính số BMI và xét rồi xin kết quả theo dữ liệu sau:\n",
    "\n",
    "- BMI < 16: Gầy cấp độ III\n",
    "- 16 <= BMI < 17:  Gầy cấp độ II\n",
    "- 17<= BMI < 18.5: Gầy cấp độ I\n",
    "- 18.5 <= BMI < 25: Bình thường\n",
    "- 25 <= BMI < 30: Thừa cân\n",
    "- 30 <= BMI < 35 : Béo phì cấp độ I\n",
    "- 35 <= BMI < 40: Béo phì cấp độ II\n",
    "- BMI > 40: Béo phì cấp độ III"
   ]
  },
  {
   "cell_type": "code",
   "execution_count": null,
   "id": "1058f441",
   "metadata": {},
   "outputs": [],
   "source": []
  },
  {
   "cell_type": "markdown",
   "id": "f7620342",
   "metadata": {},
   "source": [
    "### Bài 7\n",
    "\n",
    "Nhập ngày, tháng, năm. Hãy tính và in ra màn hình kể từ đầu năm đến ngày vừa nhập là bao nhiêu ngày."
   ]
  },
  {
   "cell_type": "code",
   "execution_count": null,
   "id": "4c57f0a5",
   "metadata": {},
   "outputs": [],
   "source": [
    "ngay = int(input('Nhập ngày: '))\n",
    "thang = int(input('Nhập tháng: '))\n",
    "nam = int(input('Nhập năm: '))\n",
    "tong = 0\n",
    "if thang < 8:\n",
    "    chaythang = 1\n",
    "    for i in range(thang - 1):\n",
    "        if chaythang == 2:\n",
    "            if nam % 4 == 0:\n",
    "                tong += 29\n",
    "            else:\n",
    "                tong += 28\n",
    "        else:\n",
    "            if chaythang % 2 == 0:\n",
    "                tong += 30\n",
    "            else:\n",
    "                tong += 31\n",
    "        chaythang = chaythang + 1\n",
    "        print(tong)\n",
    "    tong = tong + ngay\n",
    "else:\n",
    "    chaythang = 1\n",
    "    for i in range(7):\n",
    "        if chaythang == 2:\n",
    "            if nam % 4 == 0:\n",
    "                tong += 29\n",
    "            else:\n",
    "                tong += 28\n",
    "        else:\n",
    "            if chaythang % 2 == 0:\n",
    "                tong += 30\n",
    "            else:\n",
    "                tong += 31\n",
    "        chaythang = chaythang + 1\n",
    "    chaythang = 8\n",
    "    for i in range(thang - 7 - 1):\n",
    "        if thang % 2 == 0:\n",
    "            tong += 31\n",
    "        else:\n",
    "            tong += 30\n",
    "    tong = tong + ngay\n",
    "print(tong)\n"
   ]
  },
  {
   "cell_type": "markdown",
   "id": "7b66d8d5",
   "metadata": {},
   "source": [
    "### Bài 8\n",
    "\n",
    "Dựa vào bài vẽ đồ thị trong buổi học 6\n",
    "\n",
    "Hãy nhập vào 3 dữ liệu a, b, c bất kỳ (số thực)\n",
    "\n",
    "Tính toán và vẽ đồ thị với chiều cao của cột cao nhất là 300 đơn vị"
   ]
  },
  {
   "cell_type": "code",
   "execution_count": null,
   "id": "e950e96c",
   "metadata": {},
   "outputs": [],
   "source": []
  }
 ],
 "metadata": {
  "kernelspec": {
   "display_name": "Python 3 (ipykernel)",
   "language": "python",
   "name": "python3"
  },
  "language_info": {
   "codemirror_mode": {
    "name": "ipython",
    "version": 3
   },
   "file_extension": ".py",
   "mimetype": "text/x-python",
   "name": "python",
   "nbconvert_exporter": "python",
   "pygments_lexer": "ipython3",
   "version": "3.10.0"
  }
 },
 "nbformat": 4,
 "nbformat_minor": 5
}
